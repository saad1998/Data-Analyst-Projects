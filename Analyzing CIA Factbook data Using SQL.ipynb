{
 "cells": [
  {
   "cell_type": "markdown",
   "metadata": {},
   "source": [
    "# Analyzing CIA Factbook Data Using SQL\n",
    "\n",
    "The World Factbook is maintained by the US Government and is one of its most accessed documents.\n",
    "\n",
    "\"The World Factbook provides basic intelligence on the history, people, government, economy, energy, geography, environment, communications, transportation, military, terrorism, and transnational issues for 266 world entities.\"\n",
    "\n",
    "<a href=\"https://www.cia.gov/the-world-factbook/\">Click</a> for more information.\n",
    "\n",
    "#### Purpose\n",
    "This project explores human distribution throughout the world using factbook data on land area, population and growth, as well as birth, and death rates of each country."
   ]
  },
  {
   "cell_type": "code",
   "execution_count": 1,
   "metadata": {
    "collapsed": false
   },
   "outputs": [
    {
     "data": {
      "text/plain": [
       "'Connected: None@factbook.db'"
      ]
     },
     "execution_count": 1,
     "metadata": {},
     "output_type": "execute_result"
    }
   ],
   "source": [
    "%%capture\n",
    "%load_ext sql\n",
    "%sql sqlite:///factbook.db\n",
    "    "
   ]
  },
  {
   "cell_type": "code",
   "execution_count": 3,
   "metadata": {
    "collapsed": false
   },
   "outputs": [
    {
     "name": "stdout",
     "output_type": "stream",
     "text": [
      "Done.\n"
     ]
    },
    {
     "data": {
      "text/html": [
       "<table>\n",
       "    <tr>\n",
       "        <th>type</th>\n",
       "        <th>name</th>\n",
       "        <th>tbl_name</th>\n",
       "        <th>rootpage</th>\n",
       "        <th>sql</th>\n",
       "    </tr>\n",
       "    <tr>\n",
       "        <td>table</td>\n",
       "        <td>sqlite_sequence</td>\n",
       "        <td>sqlite_sequence</td>\n",
       "        <td>3</td>\n",
       "        <td>CREATE TABLE sqlite_sequence(name,seq)</td>\n",
       "    </tr>\n",
       "    <tr>\n",
       "        <td>table</td>\n",
       "        <td>facts</td>\n",
       "        <td>facts</td>\n",
       "        <td>47</td>\n",
       "        <td>CREATE TABLE &quot;facts&quot; (&quot;id&quot; INTEGER PRIMARY KEY AUTOINCREMENT NOT NULL, &quot;code&quot; varchar(255) NOT NULL, &quot;name&quot; varchar(255) NOT NULL, &quot;area&quot; integer, &quot;area_land&quot; integer, &quot;area_water&quot; integer, &quot;population&quot; integer, &quot;population_growth&quot; float, &quot;birth_rate&quot; float, &quot;death_rate&quot; float, &quot;migration_rate&quot; float)</td>\n",
       "    </tr>\n",
       "</table>"
      ],
      "text/plain": [
       "[('table', 'sqlite_sequence', 'sqlite_sequence', 3, 'CREATE TABLE sqlite_sequence(name,seq)'),\n",
       " ('table', 'facts', 'facts', 47, 'CREATE TABLE \"facts\" (\"id\" INTEGER PRIMARY KEY AUTOINCREMENT NOT NULL, \"code\" varchar(255) NOT NULL, \"name\" varchar(255) NOT NULL, \"area\" integer, \"a ... (4 characters truncated) ... land\" integer, \"area_water\" integer, \"population\" integer, \"population_growth\" float, \"birth_rate\" float, \"death_rate\" float, \"migration_rate\" float)')]"
      ]
     },
     "execution_count": 3,
     "metadata": {},
     "output_type": "execute_result"
    }
   ],
   "source": [
    "%%sql\n",
    "SELECT * FROM sqlite_master\n",
    "WHERE type='table';"
   ]
  },
  {
   "cell_type": "code",
   "execution_count": 4,
   "metadata": {
    "collapsed": false
   },
   "outputs": [
    {
     "name": "stdout",
     "output_type": "stream",
     "text": [
      "Done.\n"
     ]
    },
    {
     "data": {
      "text/html": [
       "<table>\n",
       "    <tr>\n",
       "        <th>id</th>\n",
       "        <th>code</th>\n",
       "        <th>name</th>\n",
       "        <th>area</th>\n",
       "        <th>area_land</th>\n",
       "        <th>area_water</th>\n",
       "        <th>population</th>\n",
       "        <th>population_growth</th>\n",
       "        <th>birth_rate</th>\n",
       "        <th>death_rate</th>\n",
       "        <th>migration_rate</th>\n",
       "    </tr>\n",
       "    <tr>\n",
       "        <td>1</td>\n",
       "        <td>af</td>\n",
       "        <td>Afghanistan</td>\n",
       "        <td>652230</td>\n",
       "        <td>652230</td>\n",
       "        <td>0</td>\n",
       "        <td>32564342</td>\n",
       "        <td>2.32</td>\n",
       "        <td>38.57</td>\n",
       "        <td>13.89</td>\n",
       "        <td>1.51</td>\n",
       "    </tr>\n",
       "    <tr>\n",
       "        <td>2</td>\n",
       "        <td>al</td>\n",
       "        <td>Albania</td>\n",
       "        <td>28748</td>\n",
       "        <td>27398</td>\n",
       "        <td>1350</td>\n",
       "        <td>3029278</td>\n",
       "        <td>0.3</td>\n",
       "        <td>12.92</td>\n",
       "        <td>6.58</td>\n",
       "        <td>3.3</td>\n",
       "    </tr>\n",
       "    <tr>\n",
       "        <td>3</td>\n",
       "        <td>ag</td>\n",
       "        <td>Algeria</td>\n",
       "        <td>2381741</td>\n",
       "        <td>2381741</td>\n",
       "        <td>0</td>\n",
       "        <td>39542166</td>\n",
       "        <td>1.84</td>\n",
       "        <td>23.67</td>\n",
       "        <td>4.31</td>\n",
       "        <td>0.92</td>\n",
       "    </tr>\n",
       "    <tr>\n",
       "        <td>4</td>\n",
       "        <td>an</td>\n",
       "        <td>Andorra</td>\n",
       "        <td>468</td>\n",
       "        <td>468</td>\n",
       "        <td>0</td>\n",
       "        <td>85580</td>\n",
       "        <td>0.12</td>\n",
       "        <td>8.13</td>\n",
       "        <td>6.96</td>\n",
       "        <td>0.0</td>\n",
       "    </tr>\n",
       "    <tr>\n",
       "        <td>5</td>\n",
       "        <td>ao</td>\n",
       "        <td>Angola</td>\n",
       "        <td>1246700</td>\n",
       "        <td>1246700</td>\n",
       "        <td>0</td>\n",
       "        <td>19625353</td>\n",
       "        <td>2.78</td>\n",
       "        <td>38.78</td>\n",
       "        <td>11.49</td>\n",
       "        <td>0.46</td>\n",
       "    </tr>\n",
       "</table>"
      ],
      "text/plain": [
       "[(1, 'af', 'Afghanistan', 652230, 652230, 0, 32564342, 2.32, 38.57, 13.89, 1.51),\n",
       " (2, 'al', 'Albania', 28748, 27398, 1350, 3029278, 0.3, 12.92, 6.58, 3.3),\n",
       " (3, 'ag', 'Algeria', 2381741, 2381741, 0, 39542166, 1.84, 23.67, 4.31, 0.92),\n",
       " (4, 'an', 'Andorra', 468, 468, 0, 85580, 0.12, 8.13, 6.96, 0.0),\n",
       " (5, 'ao', 'Angola', 1246700, 1246700, 0, 19625353, 2.78, 38.78, 11.49, 0.46)]"
      ]
     },
     "execution_count": 4,
     "metadata": {},
     "output_type": "execute_result"
    }
   ],
   "source": [
    "%%sql\n",
    "SELECT * \n",
    "    FROM facts\n",
    "    LIMIT 5;"
   ]
  },
  {
   "cell_type": "code",
   "execution_count": 6,
   "metadata": {
    "collapsed": false
   },
   "outputs": [
    {
     "name": "stdout",
     "output_type": "stream",
     "text": [
      "Done.\n"
     ]
    },
    {
     "data": {
      "text/html": [
       "<table>\n",
       "    <tr>\n",
       "        <th>MIN(population)</th>\n",
       "        <th>Max(population)</th>\n",
       "        <th>MIN(population_growth)</th>\n",
       "        <th>MAX(population_growth)</th>\n",
       "    </tr>\n",
       "    <tr>\n",
       "        <td>0</td>\n",
       "        <td>7256490011</td>\n",
       "        <td>0.0</td>\n",
       "        <td>4.02</td>\n",
       "    </tr>\n",
       "</table>"
      ],
      "text/plain": [
       "[(0, 7256490011, 0.0, 4.02)]"
      ]
     },
     "execution_count": 6,
     "metadata": {},
     "output_type": "execute_result"
    }
   ],
   "source": [
    "%%sql\n",
    "SELECT MIN(population),Max(population),MIN(population_growth),MAX(population_growth)\n",
    " FROM facts"
   ]
  },
  {
   "cell_type": "code",
   "execution_count": 7,
   "metadata": {
    "collapsed": false
   },
   "outputs": [
    {
     "name": "stdout",
     "output_type": "stream",
     "text": [
      "Done.\n"
     ]
    },
    {
     "data": {
      "text/html": [
       "<table>\n",
       "    <tr>\n",
       "        <th>name</th>\n",
       "        <th>population</th>\n",
       "    </tr>\n",
       "    <tr>\n",
       "        <td>Antarctica</td>\n",
       "        <td>0</td>\n",
       "    </tr>\n",
       "</table>"
      ],
      "text/plain": [
       "[('Antarctica', 0)]"
      ]
     },
     "execution_count": 7,
     "metadata": {},
     "output_type": "execute_result"
    }
   ],
   "source": [
    "%%sql\n",
    "SELECT name,population \n",
    " FROM facts\n",
    "WHERE population=(SELECT MIN(population)\n",
    "                 FROM facts)"
   ]
  },
  {
   "cell_type": "code",
   "execution_count": 8,
   "metadata": {
    "collapsed": false
   },
   "outputs": [
    {
     "name": "stdout",
     "output_type": "stream",
     "text": [
      "Done.\n"
     ]
    },
    {
     "data": {
      "text/html": [
       "<table>\n",
       "    <tr>\n",
       "        <th>name</th>\n",
       "        <th>population</th>\n",
       "    </tr>\n",
       "    <tr>\n",
       "        <td>World</td>\n",
       "        <td>7256490011</td>\n",
       "    </tr>\n",
       "</table>"
      ],
      "text/plain": [
       "[('World', 7256490011)]"
      ]
     },
     "execution_count": 8,
     "metadata": {},
     "output_type": "execute_result"
    }
   ],
   "source": [
    "%%sql\n",
    "SELECT name,population \n",
    " FROM facts\n",
    "WHERE population=(SELECT MAX(population)\n",
    "                 FROM facts)"
   ]
  },
  {
   "cell_type": "markdown",
   "metadata": {},
   "source": [
    "According to the analysis above inorder to get the countries with maximum and minimum population we need to exclude World, Antartica, and European Union from our query. We figured out these 3 names by exploring their <a href=\"https://www.cia.gov/the-world-factbook/\">website</a>."
   ]
  },
  {
   "cell_type": "markdown",
   "metadata": {},
   "source": [
    "### Country Having the Lowest Population"
   ]
  },
  {
   "cell_type": "code",
   "execution_count": 19,
   "metadata": {
    "collapsed": false
   },
   "outputs": [
    {
     "name": "stdout",
     "output_type": "stream",
     "text": [
      "Done.\n"
     ]
    },
    {
     "data": {
      "text/html": [
       "<table>\n",
       "    <tr>\n",
       "        <th>name</th>\n",
       "        <th>population</th>\n",
       "        <th>population_growth</th>\n",
       "    </tr>\n",
       "    <tr>\n",
       "        <td>Pitcairn Islands</td>\n",
       "        <td>48</td>\n",
       "        <td>0.0</td>\n",
       "    </tr>\n",
       "</table>"
      ],
      "text/plain": [
       "[('Pitcairn Islands', 48, 0.0)]"
      ]
     },
     "execution_count": 19,
     "metadata": {},
     "output_type": "execute_result"
    }
   ],
   "source": [
    "%%sql\n",
    "SELECT name,population,population_growth\n",
    " FROM facts\n",
    "    WHERE (name!='Antartica' AND population!='None' AND population!=0)\n",
    "    ORDER BY population ASC\n",
    "    LIMIT 1"
   ]
  },
  {
   "cell_type": "markdown",
   "metadata": {},
   "source": [
    "According to the <a href=\"https://www.cia.gov/the-world-factbook/countries/pitcairn-islands/\">CIA FactBook</a> Pitcairn Islands are an overseas territory of UK <a href=\"https://www.cia.gov/the-world-factbook/countries/pitcairn-islands/locator-map\">located</a> in the South Pacific Ocean midway between Peru and New Zealand.\n",
    "\n",
    "The Island is inhabitted by descendants of the bounty mutineers and their Tahitian wives.It has a GDP of 0 and the inhabbitants rely on fishing, subsistence farming, handicrafts, and postage stamps as a source of food, and income."
   ]
  },
  {
   "cell_type": "markdown",
   "metadata": {},
   "source": [
    "### Country having the Highest Population"
   ]
  },
  {
   "cell_type": "code",
   "execution_count": 21,
   "metadata": {
    "collapsed": false
   },
   "outputs": [
    {
     "name": "stdout",
     "output_type": "stream",
     "text": [
      "Done.\n"
     ]
    },
    {
     "data": {
      "text/html": [
       "<table>\n",
       "    <tr>\n",
       "        <th>name</th>\n",
       "        <th>population</th>\n",
       "        <th>population_growth</th>\n",
       "    </tr>\n",
       "    <tr>\n",
       "        <td>China</td>\n",
       "        <td>1367485388</td>\n",
       "        <td>0.45</td>\n",
       "    </tr>\n",
       "</table>"
      ],
      "text/plain": [
       "[('China', 1367485388, 0.45)]"
      ]
     },
     "execution_count": 21,
     "metadata": {},
     "output_type": "execute_result"
    }
   ],
   "source": [
    "%%sql\n",
    "SELECT name,population,population_growth\n",
    " FROM facts\n",
    "    WHERE (name!='World' AND population!='None' AND population!=0)\n",
    "    ORDER BY population DESC\n",
    "    LIMIT 1"
   ]
  },
  {
   "cell_type": "markdown",
   "metadata": {},
   "source": [
    "China has the world's largest population but its population density is smaller than some countries in Asia, and Europe. Most of the population is found across the rivers, and the industrial cities Beijing, and Shenyang"
   ]
  },
  {
   "cell_type": "markdown",
   "metadata": {},
   "source": [
    "### Country Having the Highest Population Growth Rate"
   ]
  },
  {
   "cell_type": "code",
   "execution_count": 30,
   "metadata": {
    "collapsed": false
   },
   "outputs": [
    {
     "name": "stdout",
     "output_type": "stream",
     "text": [
      "Done.\n"
     ]
    },
    {
     "data": {
      "text/html": [
       "<table>\n",
       "    <tr>\n",
       "        <th>name</th>\n",
       "        <th>population</th>\n",
       "        <th>population_growth</th>\n",
       "    </tr>\n",
       "    <tr>\n",
       "        <td>South Sudan</td>\n",
       "        <td>12042910</td>\n",
       "        <td>4.02</td>\n",
       "    </tr>\n",
       "</table>"
      ],
      "text/plain": [
       "[('South Sudan', 12042910, 4.02)]"
      ]
     },
     "execution_count": 30,
     "metadata": {},
     "output_type": "execute_result"
    }
   ],
   "source": [
    "%%sql\n",
    "SELECT name,population,population_growth\n",
    " FROM facts\n",
    "    WHERE (name!='World' AND name!='European Union' AND population!='None' AND population!=0)\n",
    "    ORDER BY population_growth DESC\n",
    "    LIMIT 1"
   ]
  },
  {
   "cell_type": "markdown",
   "metadata": {},
   "source": [
    "South Sudan is located in East-Central Africa; south of Sudan, north of Uganda,and Kenya, and west of Ethiopia. The population's age structure suggests that 41% of the people are aged 0-14 this suggests that their already burdened education system will face a new challenge in the future."
   ]
  },
  {
   "cell_type": "markdown",
   "metadata": {},
   "source": [
    "### Finding Densely Populated Countries\n",
    "\n",
    "These countries have the following characteristic:\n",
    "<ul>\n",
    "    <li>Above-average values for population</li>\n",
    "    <li>Below-average values for area</li>\n",
    "</ul>"
   ]
  },
  {
   "cell_type": "code",
   "execution_count": 31,
   "metadata": {
    "collapsed": false
   },
   "outputs": [
    {
     "name": "stdout",
     "output_type": "stream",
     "text": [
      "Done.\n"
     ]
    },
    {
     "data": {
      "text/html": [
       "<table>\n",
       "    <tr>\n",
       "        <th>name</th>\n",
       "        <th>population</th>\n",
       "        <th>area</th>\n",
       "    </tr>\n",
       "    <tr>\n",
       "        <td>Bangladesh</td>\n",
       "        <td>168957745</td>\n",
       "        <td>148460</td>\n",
       "    </tr>\n",
       "    <tr>\n",
       "        <td>Japan</td>\n",
       "        <td>126919659</td>\n",
       "        <td>377915</td>\n",
       "    </tr>\n",
       "    <tr>\n",
       "        <td>Philippines</td>\n",
       "        <td>100998376</td>\n",
       "        <td>300000</td>\n",
       "    </tr>\n",
       "    <tr>\n",
       "        <td>Vietnam</td>\n",
       "        <td>94348835</td>\n",
       "        <td>331210</td>\n",
       "    </tr>\n",
       "    <tr>\n",
       "        <td>Germany</td>\n",
       "        <td>80854408</td>\n",
       "        <td>357022</td>\n",
       "    </tr>\n",
       "    <tr>\n",
       "        <td>Thailand</td>\n",
       "        <td>67976405</td>\n",
       "        <td>513120</td>\n",
       "    </tr>\n",
       "    <tr>\n",
       "        <td>United Kingdom</td>\n",
       "        <td>64088222</td>\n",
       "        <td>243610</td>\n",
       "    </tr>\n",
       "    <tr>\n",
       "        <td>Italy</td>\n",
       "        <td>61855120</td>\n",
       "        <td>301340</td>\n",
       "    </tr>\n",
       "    <tr>\n",
       "        <td>Korea, South</td>\n",
       "        <td>49115196</td>\n",
       "        <td>99720</td>\n",
       "    </tr>\n",
       "    <tr>\n",
       "        <td>Spain</td>\n",
       "        <td>48146134</td>\n",
       "        <td>505370</td>\n",
       "    </tr>\n",
       "    <tr>\n",
       "        <td>Poland</td>\n",
       "        <td>38562189</td>\n",
       "        <td>312685</td>\n",
       "    </tr>\n",
       "    <tr>\n",
       "        <td>Uganda</td>\n",
       "        <td>37101745</td>\n",
       "        <td>241038</td>\n",
       "    </tr>\n",
       "    <tr>\n",
       "        <td>Iraq</td>\n",
       "        <td>37056169</td>\n",
       "        <td>438317</td>\n",
       "    </tr>\n",
       "    <tr>\n",
       "        <td>Morocco</td>\n",
       "        <td>33322699</td>\n",
       "        <td>446550</td>\n",
       "    </tr>\n",
       "    <tr>\n",
       "        <td>Nepal</td>\n",
       "        <td>31551305</td>\n",
       "        <td>147181</td>\n",
       "    </tr>\n",
       "    <tr>\n",
       "        <td>Malaysia</td>\n",
       "        <td>30513848</td>\n",
       "        <td>329847</td>\n",
       "    </tr>\n",
       "</table>"
      ],
      "text/plain": [
       "[('Bangladesh', 168957745, 148460),\n",
       " ('Japan', 126919659, 377915),\n",
       " ('Philippines', 100998376, 300000),\n",
       " ('Vietnam', 94348835, 331210),\n",
       " ('Germany', 80854408, 357022),\n",
       " ('Thailand', 67976405, 513120),\n",
       " ('United Kingdom', 64088222, 243610),\n",
       " ('Italy', 61855120, 301340),\n",
       " ('Korea, South', 49115196, 99720),\n",
       " ('Spain', 48146134, 505370),\n",
       " ('Poland', 38562189, 312685),\n",
       " ('Uganda', 37101745, 241038),\n",
       " ('Iraq', 37056169, 438317),\n",
       " ('Morocco', 33322699, 446550),\n",
       " ('Nepal', 31551305, 147181),\n",
       " ('Malaysia', 30513848, 329847)]"
      ]
     },
     "execution_count": 31,
     "metadata": {},
     "output_type": "execute_result"
    }
   ],
   "source": [
    "%%sql\n",
    "SELECT name,population,area\n",
    " FROM facts\n",
    "    WHERE (population>(SELECT AVG(CAST(population as FLOAT))\n",
    "                      FROM facts \n",
    "                      WHERE name!='World' AND name!='European Union' )) \n",
    "          AND area<(SELECT AVG(CAST(area as FLOAT))\n",
    "                    FROM facts\n",
    "                    WHERE name!='World' AND name!='European Union')\n",
    "    ORDER BY population DESC\n",
    "    \n",
    "    "
   ]
  },
  {
   "cell_type": "markdown",
   "metadata": {},
   "source": [
    "Majority of the densely populated countries in the world are located in Aisa"
   ]
  },
  {
   "cell_type": "markdown",
   "metadata": {},
   "source": [
    "### Country having Highest ratio of water to land"
   ]
  },
  {
   "cell_type": "code",
   "execution_count": 27,
   "metadata": {
    "collapsed": false
   },
   "outputs": [
    {
     "name": "stdout",
     "output_type": "stream",
     "text": [
      "Done.\n"
     ]
    },
    {
     "data": {
      "text/html": [
       "<table>\n",
       "    <tr>\n",
       "        <th>name</th>\n",
       "        <th>area_water</th>\n",
       "        <th>area_land</th>\n",
       "        <th>ratio_water_to_land</th>\n",
       "    </tr>\n",
       "    <tr>\n",
       "        <td>British Indian Ocean Territory</td>\n",
       "        <td>54340</td>\n",
       "        <td>60</td>\n",
       "        <td>905</td>\n",
       "    </tr>\n",
       "    <tr>\n",
       "        <td>Virgin Islands</td>\n",
       "        <td>1564</td>\n",
       "        <td>346</td>\n",
       "        <td>4</td>\n",
       "    </tr>\n",
       "</table>"
      ],
      "text/plain": [
       "[('British Indian Ocean Territory', 54340, 60, 905),\n",
       " ('Virgin Islands', 1564, 346, 4)]"
      ]
     },
     "execution_count": 27,
     "metadata": {},
     "output_type": "execute_result"
    }
   ],
   "source": [
    "%%sql\n",
    "SELECT name,area_water as area_water,area_land,area_water/area_land AS ratio_water_to_land\n",
    "FROM facts\n",
    "WHERE area_water>area_land\n",
    "ORDER BY area_water DESC"
   ]
  },
  {
   "cell_type": "markdown",
   "metadata": {},
   "source": [
    "The values for area_water, and area_land are in sqkm.\n",
    "\n",
    "<b>British Indian Ocean Territory</b>:\n",
    "\n",
    "It is located in south of India, about halfway between Africa and Indonesia. The islands are now inhabitted by 3000 UK and US soldiers.\n",
    "\n",
    "<b>Virgin Islands</b>:\n",
    "\n",
    "These islands are found between the Caribbean Sea and the North Atlantic Ocean, east of Puerto Rico. These islands are part of the United States, but they have their local self-governments. The population of this Island is 105,780. "
   ]
  },
  {
   "cell_type": "markdown",
   "metadata": {},
   "source": [
    "### TOP 5 Countries having a high Population Increment Next Year"
   ]
  },
  {
   "cell_type": "code",
   "execution_count": 33,
   "metadata": {
    "collapsed": false
   },
   "outputs": [
    {
     "name": "stdout",
     "output_type": "stream",
     "text": [
      "Done.\n"
     ]
    },
    {
     "data": {
      "text/html": [
       "<table>\n",
       "    <tr>\n",
       "        <th>name</th>\n",
       "        <th>current_population</th>\n",
       "        <th>annual_growth_rate</th>\n",
       "        <th>annual_population_increment</th>\n",
       "        <th>population_next_year</th>\n",
       "    </tr>\n",
       "    <tr>\n",
       "        <td>India</td>\n",
       "        <td>1251695584</td>\n",
       "        <td>1.22</td>\n",
       "        <td>15270686.1248</td>\n",
       "        <td>1266966270.1248</td>\n",
       "    </tr>\n",
       "    <tr>\n",
       "        <td>China</td>\n",
       "        <td>1367485388</td>\n",
       "        <td>0.45</td>\n",
       "        <td>6153684.246</td>\n",
       "        <td>1373639072.246</td>\n",
       "    </tr>\n",
       "    <tr>\n",
       "        <td>Nigeria</td>\n",
       "        <td>181562056</td>\n",
       "        <td>2.45</td>\n",
       "        <td>4448270.372</td>\n",
       "        <td>186010326.372</td>\n",
       "    </tr>\n",
       "    <tr>\n",
       "        <td>Pakistan</td>\n",
       "        <td>199085847</td>\n",
       "        <td>1.46</td>\n",
       "        <td>2906653.3662</td>\n",
       "        <td>201992500.3662</td>\n",
       "    </tr>\n",
       "    <tr>\n",
       "        <td>Ethiopia</td>\n",
       "        <td>99465819</td>\n",
       "        <td>2.89</td>\n",
       "        <td>2874562.1691</td>\n",
       "        <td>102340381.1691</td>\n",
       "    </tr>\n",
       "</table>"
      ],
      "text/plain": [
       "[('India', 1251695584, 1.22, 15270686.1248, 1266966270.1248),\n",
       " ('China', 1367485388, 0.45, 6153684.246, 1373639072.246),\n",
       " ('Nigeria', 181562056, 2.45, 4448270.372, 186010326.372),\n",
       " ('Pakistan', 199085847, 1.46, 2906653.3662, 201992500.3662),\n",
       " ('Ethiopia', 99465819, 2.89, 2874562.1691, 102340381.1691)]"
      ]
     },
     "execution_count": 33,
     "metadata": {},
     "output_type": "execute_result"
    }
   ],
   "source": [
    "%%sql\n",
    "SELECT name,population as current_population,population_growth as annual_growth_rate,(CAST(population as FLOAT)*population_growth)/100 as annual_population_increment,((CAST(population as FLOAT)*population_growth)/100)+population as population_next_year\n",
    "FROM facts\n",
    "WHERE name!='World' AND name!='European Union'\n",
    "ORDER BY annual_population_increment DESC\n",
    "LIMIT 5\n"
   ]
  },
  {
   "cell_type": "markdown",
   "metadata": {},
   "source": [
    "### TOP 5 Countries having a high death rate"
   ]
  },
  {
   "cell_type": "code",
   "execution_count": 41,
   "metadata": {
    "collapsed": false
   },
   "outputs": [
    {
     "name": "stdout",
     "output_type": "stream",
     "text": [
      "Done.\n"
     ]
    },
    {
     "data": {
      "text/html": [
       "<table>\n",
       "    <tr>\n",
       "        <th>name</th>\n",
       "        <th>death_rate</th>\n",
       "        <th>birth_rate</th>\n",
       "    </tr>\n",
       "    <tr>\n",
       "        <td>Ukraine</td>\n",
       "        <td>14.46</td>\n",
       "        <td>10.72</td>\n",
       "    </tr>\n",
       "    <tr>\n",
       "        <td>Bulgaria</td>\n",
       "        <td>14.44</td>\n",
       "        <td>8.92</td>\n",
       "    </tr>\n",
       "    <tr>\n",
       "        <td>Latvia</td>\n",
       "        <td>14.31</td>\n",
       "        <td>10.0</td>\n",
       "    </tr>\n",
       "    <tr>\n",
       "        <td>Lithuania</td>\n",
       "        <td>14.27</td>\n",
       "        <td>10.1</td>\n",
       "    </tr>\n",
       "    <tr>\n",
       "        <td>Russia</td>\n",
       "        <td>13.69</td>\n",
       "        <td>11.6</td>\n",
       "    </tr>\n",
       "</table>"
      ],
      "text/plain": [
       "[('Ukraine', 14.46, 10.72),\n",
       " ('Bulgaria', 14.44, 8.92),\n",
       " ('Latvia', 14.31, 10.0),\n",
       " ('Lithuania', 14.27, 10.1),\n",
       " ('Russia', 13.69, 11.6)]"
      ]
     },
     "execution_count": 41,
     "metadata": {},
     "output_type": "execute_result"
    }
   ],
   "source": [
    "%%sql\n",
    "SELECT name,death_rate,birth_rate\n",
    "FROM facts\n",
    "WHERE death_rate>birth_rate\n",
    "ORDER BY death_rate DESC\n",
    "LIMIT 5"
   ]
  },
  {
   "cell_type": "markdown",
   "metadata": {},
   "source": [
    "### Analyzing the Countries by Population GROUPS"
   ]
  },
  {
   "cell_type": "markdown",
   "metadata": {},
   "source": [
    "We will be classifying the dataset into the following population groups:\n",
    "<ul>\n",
    "    <li>Below 1M</li>\n",
    "    <li>Between 1M & 10M</li>\n",
    "    <li>Between 10M & 100M</li>\n",
    "    <li>Above 100M</li>\n",
    "</ul>"
   ]
  },
  {
   "cell_type": "code",
   "execution_count": 85,
   "metadata": {
    "collapsed": false
   },
   "outputs": [
    {
     "name": "stdout",
     "output_type": "stream",
     "text": [
      "Done.\n"
     ]
    },
    {
     "data": {
      "text/html": [
       "<table>\n",
       "    <tr>\n",
       "        <th>population_group</th>\n",
       "        <th>total_countries</th>\n",
       "        <th>total_group_population</th>\n",
       "        <th>avg_group_population</th>\n",
       "        <th>max_group_population</th>\n",
       "        <th>group_population_density</th>\n",
       "        <th>group_water_to_land_ratio</th>\n",
       "        <th>group_avg_death_rate</th>\n",
       "        <th>group_avg_birth_rate</th>\n",
       "        <th>most_populated_country</th>\n",
       "    </tr>\n",
       "    <tr>\n",
       "        <td>Above 100M</td>\n",
       "        <td>12</td>\n",
       "        <td>4442487587</td>\n",
       "        <td>370207298.92</td>\n",
       "        <td>1367485388</td>\n",
       "        <td>252.92</td>\n",
       "        <td>0.0</td>\n",
       "        <td>7.96</td>\n",
       "        <td>18.3</td>\n",
       "        <td>China</td>\n",
       "    </tr>\n",
       "    <tr>\n",
       "        <td>Below 1M</td>\n",
       "        <td>80</td>\n",
       "        <td>15335372</td>\n",
       "        <td>191692.15</td>\n",
       "        <td>909389</td>\n",
       "        <td>756.84</td>\n",
       "        <td>0.05</td>\n",
       "        <td>6.69</td>\n",
       "        <td>16.13</td>\n",
       "        <td>Fiji</td>\n",
       "    </tr>\n",
       "    <tr>\n",
       "        <td>Between 10M &amp; 100M</td>\n",
       "        <td>76</td>\n",
       "        <td>2463170924</td>\n",
       "        <td>32410143.74</td>\n",
       "        <td>99465819</td>\n",
       "        <td>119.19</td>\n",
       "        <td>0.0</td>\n",
       "        <td>8.32</td>\n",
       "        <td>23.46</td>\n",
       "        <td>Ethiopia</td>\n",
       "    </tr>\n",
       "    <tr>\n",
       "        <td>Between 1M &amp; 10M</td>\n",
       "        <td>72</td>\n",
       "        <td>335539315</td>\n",
       "        <td>4660268.26</td>\n",
       "        <td>9897541</td>\n",
       "        <td>398.18</td>\n",
       "        <td>0.0</td>\n",
       "        <td>8.29</td>\n",
       "        <td>18.24</td>\n",
       "        <td>Hungary</td>\n",
       "    </tr>\n",
       "    <tr>\n",
       "        <td>None</td>\n",
       "        <td>19</td>\n",
       "        <td>None</td>\n",
       "        <td>None</td>\n",
       "        <td>None</td>\n",
       "        <td>None</td>\n",
       "        <td>75.42</td>\n",
       "        <td>None</td>\n",
       "        <td>None</td>\n",
       "        <td>Southern Ocean</td>\n",
       "    </tr>\n",
       "</table>"
      ],
      "text/plain": [
       "[('Above 100M', 12, 4442487587, 370207298.92, 1367485388, 252.92, 0.0, 7.96, 18.3, 'China'),\n",
       " ('Below 1M', 80, 15335372, 191692.15, 909389, 756.84, 0.05, 6.69, 16.13, 'Fiji'),\n",
       " ('Between 10M & 100M', 76, 2463170924, 32410143.74, 99465819, 119.19, 0.0, 8.32, 23.46, 'Ethiopia'),\n",
       " ('Between 1M & 10M', 72, 335539315, 4660268.26, 9897541, 398.18, 0.0, 8.29, 18.24, 'Hungary'),\n",
       " ('None', 19, None, None, None, None, 75.42, None, None, 'Southern Ocean')]"
      ]
     },
     "execution_count": 85,
     "metadata": {},
     "output_type": "execute_result"
    }
   ],
   "source": [
    "%%sql\n",
    "SELECT  CASE\n",
    "        WHEN population<1000000 THEN 'Below 1M'\n",
    "        WHEN (population>=1000000 AND population<10000000) THEN 'Between 1M & 10M'\n",
    "        WHEN (population>=10000000 AND population<100000000) THEN 'Between 10M & 100M'\n",
    "        WHEN (population>=100000000) THEN 'Above 100M'\n",
    "        ELSE 'None'\n",
    "        END AS population_group,Count(*) AS total_countries,SUM(population)as total_group_population,ROUND(AVG(population),2) AS avg_group_population,\n",
    "        MAX(population) AS max_group_population,\n",
    "        ROUND(AVG(population/area),2) AS group_population_density,\n",
    "        ROUND(AVG(area_water/area_land),2) AS group_water_to_land_ratio,\n",
    "        ROUND(AVG(death_rate),2) AS group_avg_death_rate,ROUND(AVG(birth_rate),2) AS group_avg_birth_rate,name as most_populated_country\n",
    "        FROM facts\n",
    "        WHERE name!='European Union' AND name!='World'\n",
    "        GROUP BY population_group\n",
    "        \n",
    "\n",
    "        \n",
    "                        \n"
   ]
  },
  {
   "cell_type": "markdown",
   "metadata": {},
   "source": [
    "Least populated country of each of the groups above is listed below"
   ]
  },
  {
   "cell_type": "code",
   "execution_count": 86,
   "metadata": {
    "collapsed": false
   },
   "outputs": [
    {
     "name": "stdout",
     "output_type": "stream",
     "text": [
      "Done.\n"
     ]
    },
    {
     "data": {
      "text/html": [
       "<table>\n",
       "    <tr>\n",
       "        <th>population_group</th>\n",
       "        <th>least_populated_country</th>\n",
       "    </tr>\n",
       "    <tr>\n",
       "        <td>None</td>\n",
       "        <td>Southern Ocean</td>\n",
       "    </tr>\n",
       "    <tr>\n",
       "        <td>Below 1M</td>\n",
       "        <td>Western Sahara</td>\n",
       "    </tr>\n",
       "    <tr>\n",
       "        <td>Between 1M &amp; 10M</td>\n",
       "        <td>West Bank</td>\n",
       "    </tr>\n",
       "    <tr>\n",
       "        <td>Between 10M &amp; 100M</td>\n",
       "        <td>Taiwan</td>\n",
       "    </tr>\n",
       "    <tr>\n",
       "        <td>Above 100M</td>\n",
       "        <td>United States</td>\n",
       "    </tr>\n",
       "</table>"
      ],
      "text/plain": [
       "[('None', 'Southern Ocean'),\n",
       " ('Below 1M', 'Western Sahara'),\n",
       " ('Between 1M & 10M', 'West Bank'),\n",
       " ('Between 10M & 100M', 'Taiwan'),\n",
       " ('Above 100M', 'United States')]"
      ]
     },
     "execution_count": 86,
     "metadata": {},
     "output_type": "execute_result"
    }
   ],
   "source": [
    "%%sql\n",
    "SELECT CASE\n",
    "                WHEN population<1000000 THEN 'Below 1M'\n",
    "                WHEN (population>=1000000 AND population<10000000) THEN 'Between 1M & 10M'\n",
    "                WHEN (population>=10000000 AND population<100000000) THEN 'Between 10M & 100M'\n",
    "                WHEN (population>=100000000) THEN 'Above 100M'\n",
    "                ELSE 'None'\n",
    "                END AS population_group, name AS least_populated_country\n",
    "                FROM facts\n",
    "                WHERE name!='World' AND name!='European Union'\n",
    "                GROUP BY population_group\n",
    "                ORDER BY population ASC"
   ]
  },
  {
   "cell_type": "markdown",
   "metadata": {},
   "source": [
    "## Conclusion\n",
    "\n",
    "Summarising the analysis above\n",
    "<ul>\n",
    "    <li>Most populous Country is <b>China</b> with a population of over 100M</li>\n",
    "    <li>Least populous Country is <b>Pitcairn Islands</b> with a population of less than 50 and a growth rate of 0 </li>\n",
    "    <li><b>South Sudan</b> has the highest population growth rate</li>\n",
    "    <li><b>Asia</b> seems to be the most densely populated continent with countries like Bangladesh, Japan, Philipines, and Vietnam being the front runners of the list.</li>\n",
    "    <li><b>Europe</b> seems to have a death rate greater than birth rate as the top 5 countries having a higher death rate than birth rate are European</li>\n",
    "    <li>Group Analysis Summary:\n",
    "        <ul>\n",
    "            <li><b>12</b> countries have a population <b>Above 100M</b> with <b>China</b> being the most populous and <b>United States</b> being the least populous of the group</li>\n",
    "            <li><b>76</b> countries have a population <b>Between 10M & 100M</b> with <b>Ethiopia</b> being the most populous and <b>Taiwan</b> being the least populous in the group</li>\n",
    "            <li><b>72</b> countries have a population <b>Between 1M & 10M</b> with <b>Hungary</b> being the most populous and <b>West Bank</b> being the least populous in the group.</li>\n",
    "            <li><b>80</b> countries have a population <b>Below 1M</b> with <b>Fiji</b> being the most populated and <b>Western Sahara</b> being the least populated in the group</li>\n",
    "        </ul>\n",
    "    </li>\n",
    "    <li> Population projections indicate that <b>India</b> will have the highest population increment next year followed by China, Nigeria, Pakistan, and Ethiopia</li>\n",
    "</ul>"
   ]
  }
 ],
 "metadata": {
  "kernelspec": {
   "display_name": "Python 3",
   "language": "python",
   "name": "python3"
  },
  "language_info": {
   "codemirror_mode": {
    "name": "ipython",
    "version": 3
   },
   "file_extension": ".py",
   "mimetype": "text/x-python",
   "name": "python",
   "nbconvert_exporter": "python",
   "pygments_lexer": "ipython3",
   "version": "3.4.3"
  }
 },
 "nbformat": 4,
 "nbformat_minor": 2
}
