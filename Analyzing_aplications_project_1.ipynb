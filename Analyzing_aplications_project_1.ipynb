{
 "cells": [
  {
   "cell_type": "markdown",
   "metadata": {},
   "source": [
    "\n",
    "# Finding the next Big Idea - Analyzing App Profiles for IOS & Google Store \n",
    "\n",
    "Our main aim is to find profitable app profiles for both the App Store and Google Play Store. We are working as data analysts for a copmpany along side with developers so that we can facilitate them with data-driven decisions.\n",
    "\n",
    "Our company is only concerned with building apps that are free because our main source of revenue consists of in-app adds. Therefore, the main objective here is to analyze only free applications."
   ]
  },
  {
   "cell_type": "markdown",
   "metadata": {},
   "source": [
    "## Exploring Data\n",
    "\n",
    "We have two separate files containing data from Google play store and IOS store. This data was compiled in 2018 and at that time there were 2 million IOS apps on the App Store and 2.1 million Android apps on the Google Play Store. For this task we won't be analyzing such a big dataset instead we will be analyzing a subset of that dataset which is avalaible on Kaggle.\n",
    "\n",
    "<ul>\n",
    "    <li> Link to <a href=\"https://www.kaggle.com/lava18/google-play-store-apps\">Android Dataset</a> containing approximately ten thousand apps</li>\n",
    "    <li>Link to <a href=\"https://www.kaggle.com/ramamet4/app-store-apple-data-set-10k-apps\">IOS Dataset</a> containing approximately seven thousand apps</li>\n",
    "</ul>"
   ]
  },
  {
   "cell_type": "code",
   "execution_count": 1,
   "metadata": {},
   "outputs": [
    {
     "name": "stdout",
     "output_type": "stream",
     "text": [
      "Android Headers\n",
      "['App', 'Category', 'Rating', 'Reviews', 'Size', 'Installs', 'Type', 'Price', 'Content Rating', 'Genres', 'Last Updated', 'Current Ver', 'Android Ver']\n",
      "\n",
      "\n",
      "IOS Headers\n",
      "['id', 'track_name', 'size_bytes', 'currency', 'price', 'rating_count_tot', 'rating_count_ver', 'user_rating', 'user_rating_ver', 'ver', 'cont_rating', 'prime_genre', 'sup_devices.num', 'ipadSc_urls.num', 'lang.num', 'vpp_lic']\n"
     ]
    }
   ],
   "source": [
    "from csv import reader\n",
    "#Opening Google Data Set\n",
    "open_file=open('googleplaystore.csv',encoding='utf-8')\n",
    "read_data=reader(open_file)\n",
    "android=list(read_data)\n",
    "android_headers=android[0]\n",
    "android_wout_headers=android[1:]\n",
    "\n",
    "#Opening Apple Data Set\n",
    "open_file=open('AppleStore.csv',encoding='utf-8')\n",
    "read_data=reader(open_file)\n",
    "ios=list(read_data)\n",
    "ios_headers=ios[0]\n",
    "ios_wout_headers=ios[1:]\n",
    "\n",
    "print('Android Headers')\n",
    "print(android_headers)\n",
    "print('\\n')\n",
    "print('IOS Headers')\n",
    "print(ios_headers)"
   ]
  },
  {
   "cell_type": "markdown",
   "metadata": {},
   "source": [
    "I have created a function explore_data that prints out some rows from a dataset along with the information about the datasets number of rows and columns if specified while calling the function."
   ]
  },
  {
   "cell_type": "code",
   "execution_count": 2,
   "metadata": {},
   "outputs": [],
   "source": [
    "def explore_data(dataset,start,end,row_and_cols=False):\n",
    "    data_slice=dataset[start:end]\n",
    "    for i in range(len(data_slice)):\n",
    "        print(data_slice[i])\n",
    "        print('\\n')\n",
    "    \n",
    "    if row_and_cols:\n",
    "        print(\"Number of rows: \",len(dataset))\n",
    "        print(\"Number of columns: \",len(dataset[0]))"
   ]
  },
  {
   "cell_type": "code",
   "execution_count": 3,
   "metadata": {},
   "outputs": [
    {
     "name": "stdout",
     "output_type": "stream",
     "text": [
      "Google Dataset Exploration\n",
      "\n",
      "['U Launcher Lite – FREE Live Cool Themes, Hide Apps', 'ART_AND_DESIGN', '4.7', '87510', '8.7M', '5,000,000+', 'Free', '0', 'Everyone', 'Art & Design', 'August 1, 2018', '1.2.4', '4.0.3 and up']\n",
      "\n",
      "\n",
      "['Sketch - Draw & Paint', 'ART_AND_DESIGN', '4.5', '215644', '25M', '50,000,000+', 'Free', '0', 'Teen', 'Art & Design', 'June 8, 2018', 'Varies with device', '4.2 and up']\n",
      "\n",
      "\n",
      "['Pixel Draw - Number Art Coloring Book', 'ART_AND_DESIGN', '4.3', '967', '2.8M', '100,000+', 'Free', '0', 'Everyone', 'Art & Design;Creativity', 'June 20, 2018', '1.1', '4.4 and up']\n",
      "\n",
      "\n",
      "Number of rows:  10841\n",
      "Number of columns:  13\n",
      "IOS Dataset Exploration\n",
      "\n",
      "['529479190', 'Clash of Clans', '116476928', 'USD', '0.0', '2130805', '579', '4.5', '4.5', '9.24.12', '9+', 'Games', '38', '5', '18', '1']\n",
      "\n",
      "\n",
      "['420009108', 'Temple Run', '65921024', 'USD', '0.0', '1724546', '3842', '4.5', '4.0', '1.6.2', '9+', 'Games', '40', '5', '1', '1']\n",
      "\n",
      "\n",
      "['284035177', 'Pandora - Music & Radio', '130242560', 'USD', '0.0', '1126879', '3594', '4.0', '4.5', '8.4.1', '12+', 'Music', '37', '4', '1', '1']\n",
      "\n",
      "\n",
      "Number of rows:  7197\n",
      "Number of columns:  16\n"
     ]
    }
   ],
   "source": [
    "#Explore Google Dataset\n",
    "print('Google Dataset Exploration\\n')\n",
    "explore_data(android_wout_headers,2,5,True)\n",
    "\n",
    "#Explore IOS Dataset\n",
    "print('IOS Dataset Exploration\\n')\n",
    "explore_data(ios_wout_headers,2,5,True)"
   ]
  },
  {
   "cell_type": "markdown",
   "metadata": {},
   "source": [
    "Google Play store dataset contains 10841 records and 13 columns. In a glance it seems that headers or column names are self explanatory for this dataset, and, columns like category, reviews, rating , install, genres, and price will be important in the analysis.\n",
    "\n",
    "\n",
    "App Store datasetcontains 7,197 records and 16 columns. On a glance it seems that it would be best to refer to the documentation of the dataset for column descriptions. Colums like track_name, user_rating, and prime_genre will be important in the analysis"
   ]
  },
  {
   "cell_type": "markdown",
   "metadata": {},
   "source": [
    "## Removing rows with missing values\n",
    "\n",
    "After looking at the discussion session of both the dataset, and exploring it on my own. I have come across an entry that has a missing value in the Google Play Store dataset. I am using my function explore_data to print out records from 10471 to 10478 of android dataset. "
   ]
  },
  {
   "cell_type": "code",
   "execution_count": 4,
   "metadata": {},
   "outputs": [
    {
     "name": "stdout",
     "output_type": "stream",
     "text": [
      "['Jazz Wi-Fi', 'COMMUNICATION', '3.4', '49', '4.0M', '10,000+', 'Free', '0', 'Everyone', 'Communication', 'February 10, 2017', '0.1', '2.3 and up']\n",
      "\n",
      "\n",
      "['Xposed Wi-Fi-Pwd', 'PERSONALIZATION', '3.5', '1042', '404k', '100,000+', 'Free', '0', 'Everyone', 'Personalization', 'August 5, 2014', '3.0.0', '4.0.3 and up']\n",
      "\n",
      "\n",
      "['Life Made WI-Fi Touchscreen Photo Frame', '1.9', '19', '3.0M', '1,000+', 'Free', '0', 'Everyone', '', 'February 11, 2018', '1.0.19', '4.0 and up']\n",
      "\n",
      "\n",
      "['osmino Wi-Fi: free WiFi', 'TOOLS', '4.2', '134203', '4.1M', '10,000,000+', 'Free', '0', 'Everyone', 'Tools', 'August 7, 2018', '6.06.14', '4.4 and up']\n",
      "\n",
      "\n",
      "['Sat-Fi Voice', 'COMMUNICATION', '3.4', '37', '14M', '1,000+', 'Free', '0', 'Everyone', 'Communication', 'November 21, 2014', '2.2.1.5', '2.2 and up']\n",
      "\n",
      "\n",
      "['Wi-Fi Visualizer', 'TOOLS', '3.9', '132', '2.6M', '50,000+', 'Free', '0', 'Everyone', 'Tools', 'May 17, 2017', '0.0.9', '2.3 and up']\n",
      "\n",
      "\n",
      "['Lennox iComfort Wi-Fi', 'LIFESTYLE', '3.0', '552', '7.6M', '50,000+', 'Free', '0', 'Everyone', 'Lifestyle', 'March 22, 2017', '2.0.15', '2.3.3 and up']\n",
      "\n",
      "\n"
     ]
    }
   ],
   "source": [
    "explore_data(android,10471,10478)"
   ]
  },
  {
   "cell_type": "markdown",
   "metadata": {},
   "source": [
    "Life Made WI-Fi Touchscreen Photo Frame app doesnot have a content rating, and it is also missing a genre. Therefore it would be best to delete this entry from our dataset."
   ]
  },
  {
   "cell_type": "code",
   "execution_count": 5,
   "metadata": {},
   "outputs": [],
   "source": [
    "del android[10473]\n",
    "del android_wout_headers[10472]"
   ]
  },
  {
   "cell_type": "markdown",
   "metadata": {},
   "source": [
    "## Removing Repetative Rows\n",
    "\n"
   ]
  },
  {
   "cell_type": "markdown",
   "metadata": {},
   "source": [
    "In the IOS App Store dataset every application has a unique ID which is mentioned in the ID column. However, in the Google Play store dataset there is not an ID column as the applications have been distinguished on the basis of their name. This means that there might be a chance that we would find repetative rows in this dataset, so it is best to remove these rows.\n",
    "\n",
    "I am using a function remove_repetative_row that I have created for identifying duplicate rows. It takes in the dataset and returns two datasets that contain unique and duplicate applications."
   ]
  },
  {
   "cell_type": "code",
   "execution_count": 6,
   "metadata": {},
   "outputs": [],
   "source": [
    "def remove_repetative_row(dataset):\n",
    "    unique_dataset=[]\n",
    "    duplicate_dataset=[]\n",
    "    for row in dataset:\n",
    "        name=row[0]\n",
    "        if name in unique_dataset:\n",
    "            duplicate_dataset.append(name)\n",
    "        else:\n",
    "            unique_dataset.append(name)\n",
    "    \n",
    "    return unique_dataset,duplicate_dataset"
   ]
  },
  {
   "cell_type": "code",
   "execution_count": 7,
   "metadata": {},
   "outputs": [
    {
     "name": "stdout",
     "output_type": "stream",
     "text": [
      "9659\n",
      "1181\n",
      "['FreshBooks Classic', 'Insightly CRM', 'QuickBooks Accounting: Invoicing & Expenses', 'HipChat - Chat Built for Teams', 'Xero Accounting Software', 'MailChimp - Email, Marketing Automation', 'Crew - Free Messaging and Scheduling', 'Asana: organize team projects', 'Google Analytics', 'AdWords Express']\n",
      "\n",
      "\n",
      "Printing duplicate entry.\n",
      "\n",
      "['Instagram', 'SOCIAL', '4.5', '66577313', 'Varies with device', '1,000,000,000+', 'Free', '0', 'Teen', 'Social', 'July 31, 2018', 'Varies with device', 'Varies with device']\n",
      "['Instagram', 'SOCIAL', '4.5', '66577446', 'Varies with device', '1,000,000,000+', 'Free', '0', 'Teen', 'Social', 'July 31, 2018', 'Varies with device', 'Varies with device']\n",
      "['Instagram', 'SOCIAL', '4.5', '66577313', 'Varies with device', '1,000,000,000+', 'Free', '0', 'Teen', 'Social', 'July 31, 2018', 'Varies with device', 'Varies with device']\n",
      "['Instagram', 'SOCIAL', '4.5', '66509917', 'Varies with device', '1,000,000,000+', 'Free', '0', 'Teen', 'Social', 'July 31, 2018', 'Varies with device', 'Varies with device']\n"
     ]
    }
   ],
   "source": [
    "android_unique,android_duplicate=remove_repetative_row(android_wout_headers)\n",
    "print(len(android_unique))\n",
    "print(len(android_duplicate))\n",
    "\n",
    "print(android_duplicate[10:20])\n",
    "print(\"\\n\")\n",
    "print(\"Printing duplicate entry.\\n\")\n",
    "for row in android_wout_headers:\n",
    "    name=row[0]\n",
    "    if name == \"Instagram\":\n",
    "        \n",
    "        print(row)\n",
    "\n",
    "    \n",
    "    \n",
    "        \n"
   ]
  },
  {
   "cell_type": "markdown",
   "metadata": {},
   "source": [
    "The android Google Play store dataset has 9,659 applications that are unique, and 1,181 applications have repeated entries. As an example names of 10 applications have been printed that have duplicate entries. Furthermore duplicate entries of an application Instagram have been printed out.\n",
    "\n",
    "Removing duplicate entries is necessary as this can corrupt our analysis. Duplicate entries can either be removed randomly or on the basis of a criteria. In the duplicate entries of Instagram above it seems that the only difference here is in the reviews (4th value above) column. Therefore, it seems that duplicate applications can be removed on the basis of maximum reviews that is from amongst the duplicate entries of a certain application the entry with the most reviews will be kept in our analysis.\n",
    "\n",
    "The approach here is to create an empty dictionary where name of the application is the key and its value is the maximum number of reviews it has in our dataset. Once this dictionary is created we will create a new list containing all the information about the unique entries."
   ]
  },
  {
   "cell_type": "code",
   "execution_count": 8,
   "metadata": {},
   "outputs": [
    {
     "name": "stdout",
     "output_type": "stream",
     "text": [
      "Length of dictionary:  9659\n",
      "Length of cleaned dataset:  9659\n"
     ]
    }
   ],
   "source": [
    "reviews_max={}\n",
    "#Duplicate Entry Resolving Criteria\n",
    "for row in android_wout_headers:\n",
    "    name=row[0]\n",
    "    n_reviews=float(row[3])\n",
    "    \n",
    "    if name in reviews_max and reviews_max[name]<n_reviews:\n",
    "        reviews_max[name]=n_reviews\n",
    "    elif name not in reviews_max:\n",
    "        reviews_max[name]=n_reviews\n",
    "\n",
    "        \n",
    "print(\"Length of dictionary: \",len(reviews_max)) \n",
    "#Preparing Clean android data\n",
    "android_clean=[]\n",
    "already_added=[]\n",
    "\n",
    "for row in android_wout_headers:\n",
    "    name=row[0]\n",
    "    n_reviews=float(row[3])\n",
    "    if (reviews_max[name] == n_reviews) and (name not in already_added):\n",
    "        android_clean.append(row)\n",
    "        already_added.append(name)\n",
    "\n",
    "print(\"Length of cleaned dataset: \",len(android_clean))"
   ]
  },
  {
   "cell_type": "markdown",
   "metadata": {},
   "source": [
    "The length of our dictionary and our cleaned dataset is the same and we finally have a cleaned dataset containing 9,659 records."
   ]
  },
  {
   "cell_type": "markdown",
   "metadata": {},
   "source": [
    "## Remove Non English Applications\n",
    "\n",
    "Our company is concerned with only English applications therefore, I will remove any application having a non-english name. I have created a function english_character that identifies whether a name's first three characters are english or non-english."
   ]
  },
  {
   "cell_type": "code",
   "execution_count": 9,
   "metadata": {},
   "outputs": [
    {
     "name": "stdout",
     "output_type": "stream",
     "text": [
      "True\n",
      "False\n",
      "True\n",
      "True\n"
     ]
    }
   ],
   "source": [
    "def english_character(word):\n",
    "    non_ascii = 0\n",
    "    \n",
    "    for character in word:\n",
    "        if ord(character)<0 or ord(character) > 127:\n",
    "            non_ascii += 1\n",
    "    \n",
    "    if non_ascii > 3:\n",
    "        return False\n",
    "    else:\n",
    "        return True\n",
    "\n",
    "\n",
    "print(english_character('Instagram'))\n",
    "print(english_character('爱奇艺PPS -《欢乐颂2》电视剧热播'))\n",
    "print(english_character('Docs To Go™ Free Office Suite'))\n",
    "print(english_character('Instachat 😜'))"
   ]
  },
  {
   "cell_type": "markdown",
   "metadata": {},
   "source": [
    "The above result shows that our function is working perfectly as it can differentiate between english and non-english names."
   ]
  },
  {
   "cell_type": "code",
   "execution_count": 10,
   "metadata": {},
   "outputs": [
    {
     "name": "stdout",
     "output_type": "stream",
     "text": [
      "Total Number of Apps:  9659\n",
      "Number of English Apps:  9614\n",
      "Total Number of Apps:  7197\n",
      "Number of English Apps:  6183\n",
      "['Photo Editor & Candy Camera & Grid & ScrapBook', 'ART_AND_DESIGN', '4.1', '159', '19M', '10,000+', 'Free', '0', 'Everyone', 'Art & Design', 'January 7, 2018', '1.0.0', '4.0.3 and up']\n",
      "\n",
      "\n",
      "['U Launcher Lite – FREE Live Cool Themes, Hide Apps', 'ART_AND_DESIGN', '4.7', '87510', '8.7M', '5,000,000+', 'Free', '0', 'Everyone', 'Art & Design', 'August 1, 2018', '1.2.4', '4.0.3 and up']\n",
      "\n",
      "\n",
      "['Sketch - Draw & Paint', 'ART_AND_DESIGN', '4.5', '215644', '25M', '50,000,000+', 'Free', '0', 'Teen', 'Art & Design', 'June 8, 2018', 'Varies with device', '4.2 and up']\n",
      "\n",
      "\n",
      "Number of rows:  9614\n",
      "Number of columns:  13\n",
      "['284882215', 'Facebook', '389879808', 'USD', '0.0', '2974676', '212', '3.5', '3.5', '95.0', '4+', 'Social Networking', '37', '1', '29', '1']\n",
      "\n",
      "\n",
      "['389801252', 'Instagram', '113954816', 'USD', '0.0', '2161558', '1289', '4.5', '4.0', '10.23', '12+', 'Photo & Video', '37', '0', '29', '1']\n",
      "\n",
      "\n",
      "['529479190', 'Clash of Clans', '116476928', 'USD', '0.0', '2130805', '579', '4.5', '4.5', '9.24.12', '9+', 'Games', '38', '5', '18', '1']\n",
      "\n",
      "\n",
      "Number of rows:  6183\n",
      "Number of columns:  16\n"
     ]
    }
   ],
   "source": [
    "#Removing non English Apps from the Data\n",
    "\n",
    "#Android Dataset\n",
    "android_cl_eng=[]#android clean english apps\n",
    "for row in android_clean:\n",
    "    name=row[0]\n",
    "    if english_character(name):\n",
    "        android_cl_eng.append(row)\n",
    "\n",
    "print('Total Number of Apps: ',len(android_clean))\n",
    "print('Number of English Apps: ',len(android_cl_eng))\n",
    "\n",
    "#IOS Dataset\n",
    "ios_cl_eng=[]#ios clean english apps\n",
    "for record in ios_wout_headers:\n",
    "    name=record[1]\n",
    "    if english_character(name):\n",
    "        ios_cl_eng.append(record)\n",
    "\n",
    "print('Total Number of Apps: ',len(ios_wout_headers))\n",
    "print('Number of English Apps: ',len(ios_cl_eng))\n",
    "\n",
    "explore_data(android_cl_eng, 0, 3, True)\n",
    "explore_data(ios_cl_eng, 0, 3, True)\n",
    "\n"
   ]
  },
  {
   "cell_type": "markdown",
   "metadata": {},
   "source": [
    "On the basis of our function english_character we have extracted all applications having english names. The english applications of google play store dataset are present in android_cl_eng list and the english applications in the IOS APP store dataset are present in the ios_cl_eng list.\n",
    "\n",
    "Android dataset has 9,659 records out which the number of english applications is 9,614 and IOS dataset has 7,197 records out of which 6,183 are english."
   ]
  },
  {
   "cell_type": "markdown",
   "metadata": {},
   "source": [
    "## Removing Applications that are Paid\n",
    "\n",
    "Since our company is concerned with applications that are free we will remove all applications that are paid from our filtered dataset. I have created a get_free_apps functions that takes the dataset, and an index and returns a dataset containing applications that are free. The function identifies free applications on the basis of the column index passed to it."
   ]
  },
  {
   "cell_type": "code",
   "execution_count": 11,
   "metadata": {},
   "outputs": [],
   "source": [
    "#A function that extracts data of Apps that are free\n",
    "def get_free_apps(dataset,index):\n",
    "    dataset_free=[]\n",
    "    for row in dataset:\n",
    "        check=row[index]\n",
    "        if check==\"0\" or check=='Free' or check==\"0.0\":\n",
    "            dataset_free.append(row)\n",
    "    return dataset_free"
   ]
  },
  {
   "cell_type": "code",
   "execution_count": 12,
   "metadata": {},
   "outputs": [
    {
     "name": "stdout",
     "output_type": "stream",
     "text": [
      "Number of Free Apps in Android Dataset:  8864\n",
      "Number of free Apps in IOS Dataset:  3222\n"
     ]
    }
   ],
   "source": [
    "#Android Dataset\n",
    "\n",
    "android_free=get_free_apps(android_cl_eng,7)\n",
    "print(\"Number of Free Apps in Android Dataset: \",len(android_free))\n",
    "\n",
    "\n",
    "#IOS Dataset\n",
    "ios_free=get_free_apps(ios_cl_eng,4)\n",
    "print(\"Number of free Apps in IOS Dataset: \",len(ios_free))\n"
   ]
  },
  {
   "cell_type": "markdown",
   "metadata": {},
   "source": [
    "After running the get_free_apps function we see number of free apps in android dataset are 8,864 and the number of free apps in IOS dataset is 3,222."
   ]
  },
  {
   "cell_type": "markdown",
   "metadata": {},
   "source": [
    "## Most Common Apps By Genre\n",
    "\n",
    "### Part one\n",
    "\n",
    "We need to identify an application that has the most users because our revenue depends on in-app adds. Therefore we will find the most common genre or category of apps present in both Google and the App store. In the Google play store dataset we will find the frequency using both the category and genre column, and then we will see which column to use for further analysis. IN the App store dataset we will use prime_genre column.\n",
    "\n",
    "I have created two functions below for further analysis of data. The freq_table function takes in the dataset and the column number that we want to use for frequency calculation along with a boolean variable choice_percent that specifies whether the frequency should be in percentage or numbers. This function returns a dictionary where the key is the app name and value is the frequency.\n",
    "\n",
    "I have also created a second function that takes this dictionary and returns it in descending order. This function converts the dictionary into a list of typles and then applies the built in sorted function on that list and returns it."
   ]
  },
  {
   "cell_type": "code",
   "execution_count": 13,
   "metadata": {},
   "outputs": [],
   "source": [
    "#Creating Frequency tables\n",
    "def freq_table(dataset,index,choice_percent):\n",
    "    freq_dict={}\n",
    "    total=0\n",
    "    for row in dataset:\n",
    "        key=row[index]\n",
    "        total+=1\n",
    "        if key in freq_dict:\n",
    "            freq_dict[key]+=1\n",
    "            \n",
    "        else:\n",
    "            freq_dict[key]=1\n",
    "    if choice_percent==True:\n",
    "        freq_dict_percent={}\n",
    "        for key in freq_dict:\n",
    "            percentage=(freq_dict[key]/total)*100\n",
    "            freq_dict_percent[key]=percentage\n",
    "        return freq_dict_percent\n",
    "    else:\n",
    "        return freq_dict\n",
    "\n",
    "#Displaying Frequency tables in descending order\n",
    "def display_table(dataset,index,choice_percent,choice_freq,freq):\n",
    "    if choice_freq==True:\n",
    "        freq_dict=freq_table(dataset,index,choice_percent)\n",
    "    else:\n",
    "        freq_dict=freq\n",
    "    table_display=[]\n",
    "    for key in freq_dict:\n",
    "        key_val_tuple=(freq_dict[key],key)\n",
    "        table_display.append(key_val_tuple)\n",
    "    table_sorted=sorted(table_display,reverse=True)\n",
    "    for entry in table_sorted:\n",
    "        print(entry[1],\" : \",entry[0])\n",
    "    return table_sorted"
   ]
  },
  {
   "cell_type": "code",
   "execution_count": 14,
   "metadata": {},
   "outputs": [
    {
     "name": "stdout",
     "output_type": "stream",
     "text": [
      "Google Play Store Category Frequency Table\n",
      "\n",
      "FAMILY  :  18.907942238267147\n",
      "GAME  :  9.724729241877256\n",
      "TOOLS  :  8.461191335740072\n",
      "BUSINESS  :  4.591606498194946\n",
      "LIFESTYLE  :  3.9034296028880866\n",
      "PRODUCTIVITY  :  3.892148014440433\n",
      "FINANCE  :  3.7003610108303246\n",
      "MEDICAL  :  3.531137184115524\n",
      "SPORTS  :  3.395758122743682\n",
      "PERSONALIZATION  :  3.3167870036101084\n",
      "COMMUNICATION  :  3.2378158844765346\n",
      "HEALTH_AND_FITNESS  :  3.0798736462093865\n",
      "PHOTOGRAPHY  :  2.944494584837545\n",
      "NEWS_AND_MAGAZINES  :  2.7978339350180503\n",
      "SOCIAL  :  2.6624548736462095\n",
      "TRAVEL_AND_LOCAL  :  2.33528880866426\n",
      "SHOPPING  :  2.2450361010830324\n",
      "BOOKS_AND_REFERENCE  :  2.1435018050541514\n",
      "DATING  :  1.861462093862816\n",
      "VIDEO_PLAYERS  :  1.7937725631768955\n",
      "MAPS_AND_NAVIGATION  :  1.3989169675090252\n",
      "FOOD_AND_DRINK  :  1.2409747292418771\n",
      "EDUCATION  :  1.1620036101083033\n",
      "ENTERTAINMENT  :  0.9589350180505415\n",
      "LIBRARIES_AND_DEMO  :  0.9363718411552346\n",
      "AUTO_AND_VEHICLES  :  0.9250902527075812\n",
      "HOUSE_AND_HOME  :  0.8235559566787004\n",
      "WEATHER  :  0.8009927797833934\n",
      "EVENTS  :  0.7107400722021661\n",
      "PARENTING  :  0.6543321299638989\n",
      "ART_AND_DESIGN  :  0.6430505415162455\n",
      "COMICS  :  0.6204873646209386\n",
      "BEAUTY  :  0.5979241877256317\n",
      "\n",
      "\n",
      "Google Play Store Genres Frequency Table\n",
      "\n",
      "Tools  :  8.449909747292418\n",
      "Entertainment  :  6.069494584837545\n",
      "Education  :  5.347472924187725\n",
      "Business  :  4.591606498194946\n",
      "Productivity  :  3.892148014440433\n",
      "Lifestyle  :  3.892148014440433\n",
      "Finance  :  3.7003610108303246\n",
      "Medical  :  3.531137184115524\n",
      "Sports  :  3.463447653429603\n",
      "Personalization  :  3.3167870036101084\n",
      "Communication  :  3.2378158844765346\n",
      "Action  :  3.1024368231046933\n",
      "Health & Fitness  :  3.0798736462093865\n",
      "Photography  :  2.944494584837545\n",
      "News & Magazines  :  2.7978339350180503\n",
      "Social  :  2.6624548736462095\n",
      "Travel & Local  :  2.3240072202166067\n",
      "Shopping  :  2.2450361010830324\n",
      "Books & Reference  :  2.1435018050541514\n",
      "Simulation  :  2.0419675090252705\n",
      "Dating  :  1.861462093862816\n",
      "Arcade  :  1.8501805054151623\n",
      "Video Players & Editors  :  1.7712093862815883\n",
      "Casual  :  1.7599277978339352\n",
      "Maps & Navigation  :  1.3989169675090252\n",
      "Food & Drink  :  1.2409747292418771\n",
      "Puzzle  :  1.128158844765343\n",
      "Racing  :  0.9927797833935018\n",
      "Role Playing  :  0.9363718411552346\n",
      "Libraries & Demo  :  0.9363718411552346\n",
      "Auto & Vehicles  :  0.9250902527075812\n",
      "Strategy  :  0.9138086642599278\n",
      "House & Home  :  0.8235559566787004\n",
      "Weather  :  0.8009927797833934\n",
      "Events  :  0.7107400722021661\n",
      "Adventure  :  0.6768953068592057\n",
      "Comics  :  0.6092057761732852\n",
      "Beauty  :  0.5979241877256317\n",
      "Art & Design  :  0.5979241877256317\n",
      "Parenting  :  0.4963898916967509\n",
      "Card  :  0.45126353790613716\n",
      "Casino  :  0.42870036101083037\n",
      "Trivia  :  0.41741877256317694\n",
      "Educational;Education  :  0.39485559566787\n",
      "Board  :  0.3835740072202166\n",
      "Educational  :  0.3722924187725632\n",
      "Education;Education  :  0.33844765342960287\n",
      "Word  :  0.2594765342960289\n",
      "Casual;Pretend Play  :  0.236913357400722\n",
      "Music  :  0.2030685920577617\n",
      "Racing;Action & Adventure  :  0.16922382671480143\n",
      "Puzzle;Brain Games  :  0.16922382671480143\n",
      "Entertainment;Music & Video  :  0.16922382671480143\n",
      "Casual;Brain Games  :  0.13537906137184114\n",
      "Casual;Action & Adventure  :  0.13537906137184114\n",
      "Arcade;Action & Adventure  :  0.12409747292418773\n",
      "Action;Action & Adventure  :  0.10153429602888085\n",
      "Educational;Pretend Play  :  0.09025270758122744\n",
      "Simulation;Action & Adventure  :  0.078971119133574\n",
      "Parenting;Education  :  0.078971119133574\n",
      "Entertainment;Brain Games  :  0.078971119133574\n",
      "Board;Brain Games  :  0.078971119133574\n",
      "Parenting;Music & Video  :  0.06768953068592057\n",
      "Educational;Brain Games  :  0.06768953068592057\n",
      "Casual;Creativity  :  0.06768953068592057\n",
      "Art & Design;Creativity  :  0.06768953068592057\n",
      "Education;Pretend Play  :  0.056407942238267145\n",
      "Role Playing;Pretend Play  :  0.04512635379061372\n",
      "Education;Creativity  :  0.04512635379061372\n",
      "Role Playing;Action & Adventure  :  0.033844765342960284\n",
      "Puzzle;Action & Adventure  :  0.033844765342960284\n",
      "Entertainment;Creativity  :  0.033844765342960284\n",
      "Entertainment;Action & Adventure  :  0.033844765342960284\n",
      "Educational;Creativity  :  0.033844765342960284\n",
      "Educational;Action & Adventure  :  0.033844765342960284\n",
      "Education;Music & Video  :  0.033844765342960284\n",
      "Education;Brain Games  :  0.033844765342960284\n",
      "Education;Action & Adventure  :  0.033844765342960284\n",
      "Adventure;Action & Adventure  :  0.033844765342960284\n",
      "Video Players & Editors;Music & Video  :  0.02256317689530686\n",
      "Sports;Action & Adventure  :  0.02256317689530686\n",
      "Simulation;Pretend Play  :  0.02256317689530686\n",
      "Puzzle;Creativity  :  0.02256317689530686\n",
      "Music;Music & Video  :  0.02256317689530686\n",
      "Entertainment;Pretend Play  :  0.02256317689530686\n",
      "Casual;Education  :  0.02256317689530686\n",
      "Board;Action & Adventure  :  0.02256317689530686\n",
      "Video Players & Editors;Creativity  :  0.01128158844765343\n",
      "Trivia;Education  :  0.01128158844765343\n",
      "Travel & Local;Action & Adventure  :  0.01128158844765343\n",
      "Tools;Education  :  0.01128158844765343\n",
      "Strategy;Education  :  0.01128158844765343\n",
      "Strategy;Creativity  :  0.01128158844765343\n",
      "Strategy;Action & Adventure  :  0.01128158844765343\n",
      "Simulation;Education  :  0.01128158844765343\n",
      "Role Playing;Brain Games  :  0.01128158844765343\n",
      "Racing;Pretend Play  :  0.01128158844765343\n",
      "Puzzle;Education  :  0.01128158844765343\n",
      "Parenting;Brain Games  :  0.01128158844765343\n",
      "Music & Audio;Music & Video  :  0.01128158844765343\n",
      "Lifestyle;Pretend Play  :  0.01128158844765343\n",
      "Lifestyle;Education  :  0.01128158844765343\n",
      "Health & Fitness;Education  :  0.01128158844765343\n",
      "Health & Fitness;Action & Adventure  :  0.01128158844765343\n",
      "Entertainment;Education  :  0.01128158844765343\n",
      "Communication;Creativity  :  0.01128158844765343\n",
      "Comics;Creativity  :  0.01128158844765343\n",
      "Casual;Music & Video  :  0.01128158844765343\n",
      "Card;Action & Adventure  :  0.01128158844765343\n",
      "Books & Reference;Education  :  0.01128158844765343\n",
      "Art & Design;Pretend Play  :  0.01128158844765343\n",
      "Art & Design;Action & Adventure  :  0.01128158844765343\n",
      "Arcade;Pretend Play  :  0.01128158844765343\n",
      "Adventure;Education  :  0.01128158844765343\n",
      "\n",
      "\n",
      "IOS Store Prime_Genres Frequency Table\n",
      "\n",
      "Games  :  58.16263190564867\n",
      "Entertainment  :  7.883302296710118\n",
      "Photo & Video  :  4.9658597144630665\n",
      "Education  :  3.662321539416512\n",
      "Social Networking  :  3.2898820608317814\n",
      "Shopping  :  2.60707635009311\n",
      "Utilities  :  2.5139664804469275\n",
      "Sports  :  2.1415270018621975\n",
      "Music  :  2.0484171322160147\n",
      "Health & Fitness  :  2.0173805090006205\n",
      "Productivity  :  1.7380509000620732\n",
      "Lifestyle  :  1.5828677839851024\n",
      "News  :  1.3345747982619491\n",
      "Travel  :  1.2414649286157666\n",
      "Finance  :  1.1173184357541899\n",
      "Weather  :  0.8690254500310366\n",
      "Food & Drink  :  0.8069522036002483\n",
      "Reference  :  0.5586592178770949\n",
      "Business  :  0.5276225946617008\n",
      "Book  :  0.4345127250155183\n",
      "Navigation  :  0.186219739292365\n",
      "Medical  :  0.186219739292365\n",
      "Catalogs  :  0.12414649286157665\n",
      "\n",
      "\n"
     ]
    }
   ],
   "source": [
    "#Google Play Store Category Frequency\n",
    "print(\"Google Play Store Category Frequency Table\\n\")\n",
    "android_category=display_table(android_free,1,True,True,0)\n",
    "print(\"\\n\")\n",
    "#Google Play Store Genres Frequency\n",
    "print(\"Google Play Store Genres Frequency Table\\n\")\n",
    "android_genres=display_table(android_free,9,True,True,0)\n",
    "print(\"\\n\")\n",
    "#IOS Store Prime_Genres Frequency Table\n",
    "print(\"IOS Store Prime_Genres Frequency Table\\n\")\n",
    "ios_prime_genres=display_table(ios_free,11,True,True,0)\n",
    "print(\"\\n\")"
   ]
  },
  {
   "cell_type": "markdown",
   "metadata": {},
   "source": [
    "### Analyzing Prime_genres Frequency table to get insight into IOS Store\n",
    "\n",
    "The most common genre is <b>Games</b> with <b>58.16%</b>, and the runner up here is <b>Entertainment</b> with <b>7.88%</b>. It seems that most of the apps on IOS store are designed for an entertainment purpose rather than a practical purpose. From the frequency table alone it seems that we should only focus on designing games but this doesn't indicate that these games have the largest number of users. Most popular genre according to large number of users can be found by comparing the number of installs or user reviews of a genre.\n",
    "\n",
    "### Analyzing Google Play Store Genre and Category frequency table\n",
    "\n",
    "In the genre frequency table the most common genre is <b>(8.449909747292418, Tools)</b> and in the categories frequency table the most common is <b>(18.907942238267147, FAMILY)</b>. After looking at the frequency tables of google play store, it seems that there are more productivity apps on the store other than games. Moreover, by looking at the frequency tables of category and genre of the Google play store dataset it seems that the compared to category, genre is more granular in terms of its division of Apps. Therefore, for further analysis we will be using the category column. We may refer to the genre column once we are done analyzing the category column.\n",
    "\n",
    "### Comparison of Google and App store\n",
    "\n",
    "On the IOS store we found that there were more entertainment Apps than productivity Apps where as it was the other way around in the case of Google Play Store. This means that according to our validation strategy there is a high chance of a game ending up on both the Apps stores other than productive Apps. This also tells that the productive apps present on ios store have a permanent audience that is satisfied with those apps. Since productivity apps are more on google play store than IOS store this means that few productivity Apps earn enough to make it to the IOS store. Based on the frequency tables I would recomment an App in the entertainment industry such as games. The frequency tables tell us the genre having the most number of apps present on the store however, it doesnot tell us about the genre that has the most number of users. After analyzing the genres based on the most number of users we can reach on a conclusion of the best genre for the company.\n",
    "\n"
   ]
  },
  {
   "cell_type": "markdown",
   "metadata": {},
   "source": [
    "## Most Common Genre based on the number of users in App Store\n",
    "\n",
    "The App store has no such column which tells us the number of users whi have downloaded that application. Therefore, we will be using the ratings column to get an idea of the number of users using that application.\n",
    "\n",
    "### Part one\n",
    "\n",
    "I have obtained the non-percentage form frequency table of the prime_genre column in the App store dataset. I will be creating a dictionary where the key is the genre and the value is the user rating of that genre. Every time a genre repeats its user rating gets added in to its entry present in the dictionary. The value present in this dictionary have been used to calculate the average ratings of a genre. The average rating is calculated by dividing the total ratings with the frequency of that genre. "
   ]
  },
  {
   "cell_type": "code",
   "execution_count": 15,
   "metadata": {},
   "outputs": [
    {
     "name": "stdout",
     "output_type": "stream",
     "text": [
      "Navigation  :  86090.33333333333\n",
      "Reference  :  74942.11111111111\n",
      "Social Networking  :  71548.34905660378\n",
      "Music  :  57326.530303030304\n",
      "Weather  :  52279.892857142855\n",
      "Book  :  39758.5\n",
      "Food & Drink  :  33333.92307692308\n",
      "Finance  :  31467.944444444445\n",
      "Photo & Video  :  28441.54375\n",
      "Travel  :  28243.8\n",
      "Shopping  :  26919.690476190477\n",
      "Health & Fitness  :  23298.015384615384\n",
      "Sports  :  23008.898550724636\n",
      "Games  :  22788.6696905016\n",
      "News  :  21248.023255813954\n",
      "Productivity  :  21028.410714285714\n",
      "Utilities  :  18684.456790123455\n",
      "Lifestyle  :  16485.764705882353\n",
      "Entertainment  :  14029.830708661417\n",
      "Business  :  7491.117647058823\n",
      "Education  :  7003.983050847458\n",
      "Catalogs  :  4004.0\n",
      "Medical  :  612.0\n"
     ]
    }
   ],
   "source": [
    "\n",
    "prime_genre_freq=freq_table(ios_free,11,False)\n",
    "\n",
    "#Finding most popular App by genre on App Store\n",
    "#Doing this by looking at the number of users using the App\n",
    "\n",
    "prime_genre_rating={}\n",
    "for row in ios_free:\n",
    "    rating=float(row[5])\n",
    "    genre=row[11]\n",
    "    if genre in prime_genre_rating:\n",
    "        prime_genre_rating[genre]+=rating\n",
    "    else:\n",
    "        prime_genre_rating[genre]=rating\n",
    "        \n",
    "\n",
    "prime_genre_avg_rating={}\n",
    "for key in prime_genre_freq:\n",
    "    prime_genre_avg_rating[key]=prime_genre_rating[key]/prime_genre_freq[key]\n",
    "\n",
    "prime_genre_avg_table=display_table(0,0,False,False,prime_genre_avg_rating)\n",
    "\n"
   ]
  },
  {
   "cell_type": "markdown",
   "metadata": {},
   "source": [
    "From the data above it seems that the Navigation Apps are the ones having the most users. It would be best to analyze it further by looking at some App profiles before jumping in to conclusions.\n",
    "\n",
    "### Part Two\n",
    "\n",
    "I have created a function print_app_genre for this purpose. This function takes in the dataset, the indices of the columns we want to print, the index of the rating column along with the genre, and the number of apps to print."
   ]
  },
  {
   "cell_type": "code",
   "execution_count": 16,
   "metadata": {},
   "outputs": [
    {
     "name": "stdout",
     "output_type": "stream",
     "text": [
      "Waze - GPS Navigation, Maps & Real-time Traffic : 345046\n",
      "Google Maps - Navigation & Transit : 154911\n",
      "Geocaching® : 12811\n",
      "CoPilot GPS – Car Navigation & Offline Maps : 3582\n",
      "ImmobilienScout24: Real Estate Search in Germany : 187\n",
      "Railway Route Search : 5\n"
     ]
    }
   ],
   "source": [
    "#Going forward with Navigation Apps as the ones having most users\n",
    "\n",
    "#Printing App profiles of some Navigation apps\n",
    "\n",
    "def print_app_genre(dataset,index_cond,index_id,index_val,genre,count):\n",
    "    num=0\n",
    "    for row in dataset:\n",
    "        genre_app=row[index_cond]\n",
    "        if genre_app==genre:\n",
    "            if num==count:\n",
    "                break\n",
    "            else:\n",
    "                print(row[index_id],\":\",row[index_val])\n",
    "                num+=1\n",
    "    return\n",
    "\n",
    "print_app_genre(ios_free,11,1,5,\"Navigation\",10)\n",
    "\n",
    "#Analysis\n",
    "\n",
    "#\n"
   ]
  },
  {
   "cell_type": "markdown",
   "metadata": {},
   "source": [
    "After looking at the App profiles of Navigation it seems that most of the ratings of this category is because of big heavy weights like <b> Waze - GPS Navigation</b> and <b>Google Maps - Navigation</b>. Similarly, in the other front running genres like Social Networking and Music you can notice that most of their ratings would be due to heavy weights like Facebook, and WhatsApp, Spotify, and Sound Cloud respectively These heavy weights are influencing our choice because there might be some other genre that is more popular but finds it difficult to cross certain number of user ratings. Before making a final decision its best to explore other genres."
   ]
  },
  {
   "cell_type": "code",
   "execution_count": 17,
   "metadata": {},
   "outputs": [
    {
     "name": "stdout",
     "output_type": "stream",
     "text": [
      "Bible : 985920\n",
      "Dictionary.com Dictionary & Thesaurus : 200047\n",
      "Dictionary.com Dictionary & Thesaurus for iPad : 54175\n",
      "Google Translate : 26786\n",
      "Muslim Pro: Ramadan 2017 Prayer Times, Azan, Quran : 18418\n",
      "New Furniture Mods - Pocket Wiki & Game Tools for Minecraft PC Edition : 17588\n",
      "Merriam-Webster Dictionary : 16849\n",
      "Night Sky : 12122\n",
      "City Maps for Minecraft PE - The Best Maps for Minecraft Pocket Edition (MCPE) : 8535\n",
      "LUCKY BLOCK MOD ™ for Minecraft PC Edition - The Best Pocket Wiki & Mods Installer Tools : 4693\n",
      "GUNS MODS for Minecraft PC Edition - Mods Tools : 1497\n",
      "Guides for Pokémon GO - Pokemon GO News and Cheats : 826\n",
      "WWDC : 762\n",
      "Horror Maps for Minecraft PE - Download The Scariest Maps for Minecraft Pocket Edition (MCPE) Free : 718\n",
      "VPN Express : 14\n"
     ]
    }
   ],
   "source": [
    "#Now looking at the runner up that is Reference section\n",
    "print_app_genre(ios_free,11,1,5,\"Reference\",15)\n",
    "\n",
    "#This genre shows better results that Navigation because even if we\n",
    "#elimate the giants then again we have apps that have a good number oif users who downloaded and reviewd it\n",
    "#So if we can create an app that has a couple of popular series as text books as well as audio then\n",
    "#we might get a good start."
   ]
  },
  {
   "cell_type": "markdown",
   "metadata": {},
   "source": [
    "<b>Reference</b> genre shows better results the <b>Navigation</b> genre because even if we elimate the giants then again we have apps that have a good number of users who downloaded and reviewed it. So if we can create an app that has a couple of popular series as text books as well as audio then we might get a good number of users to see the in-app adds.\n",
    "\n",
    "I also analyzed the weather, food and drink, and finance apps and reached to the following conclusion.\n",
    "<ul>\n",
    "    <li>People generally don't spend too much time in-app, and the chances of making profit from in-app adds are low. Also, getting reliable live weather data may require us to connect our apps to non-free APIs.</li>\n",
    "    <li>Food & Drink examples include Starbucks, Dunkin' Donuts, McDonald's, etc. So making a popular food and drink app requires actual cooking and a delivery service, which is outside the scope of our company.</li>\n",
    "    <li>Finance apps involve banking, paying bills, money transfer, etc. Building a finance app requires domain knowledge, and we don't want to hire a finance expert just to build an app.</li>\n",
    "</ul>\n",
    "\n",
    "However, I have decided to take a look into Photo & Video apps before coming to a conclusion."
   ]
  },
  {
   "cell_type": "code",
   "execution_count": 18,
   "metadata": {},
   "outputs": [
    {
     "name": "stdout",
     "output_type": "stream",
     "text": [
      "Instagram : 2161558\n",
      "Snapchat : 323905\n",
      "YouTube - Watch Videos, Music, and Live Streams : 278166\n",
      "Pic Collage - Picture Editor & Photo Collage Maker : 123433\n",
      "Funimate video editor: add cool effects to videos : 123268\n",
      "musical.ly - your video social network : 105429\n",
      "Photo Collage Maker & Photo Editor - Live Collage : 93781\n",
      "Vine Camera : 90355\n",
      "Google Photos - unlimited photo and video storage : 88742\n",
      "Flipagram : 79905\n",
      "Mixgram - Picture Collage Maker - Pic Photo Editor : 54282\n",
      "Shutterfly: Prints, Photo Books, Cards Made Easy : 51427\n",
      "Pic Jointer – Photo Collage, Camera Effects Editor : 51330\n",
      "Color Pop Effects - Photo Editor & Picture Editing : 45320\n",
      "Photo Grid - photo collage maker & photo editor : 40531\n",
      "iSwap Faces LITE : 39722\n",
      "MOLDIV - Photo Editor, Collage & Beauty Camera : 39501\n",
      "Photo Editor by Aviary : 39501\n",
      "Photo Lab: Picture Editor, effects & fun face app : 34585\n",
      "Rookie Cam - Photo Editor & Filter Camera : 33921\n",
      "FotoRus -Camera & Photo Editor & Pic Collage Maker : 32558\n",
      "PicsArt Photo Studio: Collage Maker & Pic Editor : 29078\n",
      "Quik – GoPro Video Editor to edit clips with music : 28654\n",
      "Splice - Video Editor + Movie Maker by GoPro : 28189\n",
      "FreePrints – Photos Delivered : 26060\n",
      "Triller - Music Video & Film Maker : 25683\n",
      "Ghost Lens+Scary Photo Video Edit&Collage Maker : 18316\n",
      "Camera360 - Selfie Filter Camera, Photo Editor : 16729\n",
      "InstaMag - Free Pic and Photo Collage Maker : 16221\n",
      "Over— Edit Photos, Add Text & Captions to Pictures : 16221\n"
     ]
    }
   ],
   "source": [
    "#Now looking at Weather, Food and Drink, Finance, Photo & Video\n",
    "print_app_genre(ios_free,11,1,5,\"Photo & Video\",30)\n"
   ]
  },
  {
   "cell_type": "markdown",
   "metadata": {},
   "source": [
    "Photo & Video Apps generally have a good number of users engaged, and therefore I would either recommend a book app or a photo & video app. Not an editor but something like TikTok cause its quite trendy these days. However, no decision can be made unless and untill we look at frequencies from Google play store dataset."
   ]
  },
  {
   "cell_type": "markdown",
   "metadata": {},
   "source": [
    "## Most Common Category in Google Play store on the basis of Number of Users\n",
    "\n",
    "### Part one"
   ]
  },
  {
   "cell_type": "code",
   "execution_count": 19,
   "metadata": {},
   "outputs": [
    {
     "name": "stdout",
     "output_type": "stream",
     "text": [
      "['Photo Editor & Candy Camera & Grid & ScrapBook', 'ART_AND_DESIGN', '4.1', '159', '19M', '10,000+', 'Free', '0', 'Everyone', 'Art & Design', 'January 7, 2018', '1.0.0', '4.0.3 and up']\n",
      "\n",
      "\n",
      "['U Launcher Lite – FREE Live Cool Themes, Hide Apps', 'ART_AND_DESIGN', '4.7', '87510', '8.7M', '5,000,000+', 'Free', '0', 'Everyone', 'Art & Design', 'August 1, 2018', '1.2.4', '4.0.3 and up']\n",
      "\n",
      "\n",
      "['Sketch - Draw & Paint', 'ART_AND_DESIGN', '4.5', '215644', '25M', '50,000,000+', 'Free', '0', 'Teen', 'Art & Design', 'June 8, 2018', 'Varies with device', '4.2 and up']\n",
      "\n",
      "\n",
      "['Pixel Draw - Number Art Coloring Book', 'ART_AND_DESIGN', '4.3', '967', '2.8M', '100,000+', 'Free', '0', 'Everyone', 'Art & Design;Creativity', 'June 20, 2018', '1.1', '4.4 and up']\n",
      "\n",
      "\n",
      "['Paper flowers instructions', 'ART_AND_DESIGN', '4.4', '167', '5.6M', '50,000+', 'Free', '0', 'Everyone', 'Art & Design', 'March 26, 2017', '1.0', '2.3 and up']\n",
      "\n",
      "\n"
     ]
    }
   ],
   "source": [
    "explore_data(android_free, 0, 5, False)"
   ]
  },
  {
   "cell_type": "markdown",
   "metadata": {},
   "source": [
    "We will be using the 6th row (Installs column in dataset) for analysis. The 6th row tells us about the how many users have downloaded and installed this application. If we look at the Installs column we see that the number is not definite as from the above examples the number can be 10,000+ or 50,000+ but we don't know the exact figure. Therefore, inorder to use it for analysis we have to remove any commas and + signs from these values. Then we will add them up and compile it in the form of a dictionary. This dictionary will be used to calculate the average number of installs by dividing the total number of installs of a category with the frequency of that category."
   ]
  },
  {
   "cell_type": "code",
   "execution_count": 20,
   "metadata": {},
   "outputs": [
    {
     "name": "stdout",
     "output_type": "stream",
     "text": [
      "COMMUNICATION  :  38456119.167247385\n",
      "VIDEO_PLAYERS  :  24727872.452830188\n",
      "SOCIAL  :  23253652.127118643\n",
      "PHOTOGRAPHY  :  17840110.40229885\n",
      "PRODUCTIVITY  :  16787331.344927534\n",
      "GAME  :  15588015.603248259\n",
      "TRAVEL_AND_LOCAL  :  13984077.710144928\n",
      "ENTERTAINMENT  :  11640705.88235294\n",
      "TOOLS  :  10801391.298666667\n",
      "NEWS_AND_MAGAZINES  :  9549178.467741935\n",
      "BOOKS_AND_REFERENCE  :  8767811.894736841\n",
      "SHOPPING  :  7036877.311557789\n",
      "PERSONALIZATION  :  5201482.6122448975\n",
      "WEATHER  :  5074486.197183099\n",
      "HEALTH_AND_FITNESS  :  4188821.9853479853\n",
      "MAPS_AND_NAVIGATION  :  4056941.7741935486\n",
      "FAMILY  :  3695641.8198090694\n",
      "SPORTS  :  3638640.1428571427\n",
      "ART_AND_DESIGN  :  1986335.0877192982\n",
      "FOOD_AND_DRINK  :  1924897.7363636363\n",
      "EDUCATION  :  1833495.145631068\n",
      "BUSINESS  :  1712290.1474201474\n",
      "LIFESTYLE  :  1437816.2687861272\n",
      "FINANCE  :  1387692.475609756\n",
      "HOUSE_AND_HOME  :  1331540.5616438356\n",
      "DATING  :  854028.8303030303\n",
      "COMICS  :  817657.2727272727\n",
      "AUTO_AND_VEHICLES  :  647317.8170731707\n",
      "LIBRARIES_AND_DEMO  :  638503.734939759\n",
      "PARENTING  :  542603.6206896552\n",
      "BEAUTY  :  513151.88679245283\n",
      "EVENTS  :  253542.22222222222\n",
      "MEDICAL  :  120550.61980830671\n"
     ]
    }
   ],
   "source": [
    "#Google Play Store most popular Apps by Genre analysis\n",
    "\n",
    "category_freq=freq_table(android_free,1,False)\n",
    "\n",
    "category_freq_install={}\n",
    "for row in android_free:\n",
    "    no_install=row[5]\n",
    "    key=row[1]\n",
    "    no_install=no_install.replace(',','')\n",
    "    no_install=float(no_install.replace('+',''))\n",
    "    if key in category_freq_install:\n",
    "        category_freq_install[key]+=no_install\n",
    "    else:\n",
    "        category_freq_install[key]=no_install\n",
    "\n",
    "category_avg_install={}        \n",
    "for key in category_freq_install:\n",
    "    category_avg_install[key]=category_freq_install[key]/category_freq[key]\n",
    "\n",
    "category_avg_table=display_table(0,0,False,False,category_avg_install)\n",
    "    "
   ]
  },
  {
   "cell_type": "markdown",
   "metadata": {},
   "source": [
    "The frequency table above shows that Communication category is the most popular but it is highly likely that its rating is influenced by the big names such as WhatsApp,Gmai,Facebook,Skype etc."
   ]
  },
  {
   "cell_type": "code",
   "execution_count": 21,
   "metadata": {},
   "outputs": [
    {
     "name": "stdout",
     "output_type": "stream",
     "text": [
      "WhatsApp Messenger : 1,000,000,000+\n",
      "Messenger for SMS : 10,000,000+\n",
      "My Tele2 : 5,000,000+\n",
      "imo beta free calls and text : 100,000,000+\n",
      "Contacts : 50,000,000+\n",
      "Call Free – Free Call : 5,000,000+\n",
      "Web Browser & Explorer : 5,000,000+\n",
      "Browser 4G : 10,000,000+\n",
      "MegaFon Dashboard : 10,000,000+\n",
      "ZenUI Dialer & Contacts : 10,000,000+\n"
     ]
    }
   ],
   "source": [
    "print_app_genre(android_free,1,0,5,\"COMMUNICATION\",10)"
   ]
  },
  {
   "cell_type": "markdown",
   "metadata": {},
   "source": [
    "This shows that the communication category is highly skewed by the big players. Therefore, it would not be an ideal choice.\n",
    "Next we move towards video players where we see that the results are also skewed by the big players like Youtube, Vimeo etc but it also shows that with a little bit of effort on the marketting side that is by hiring starts from other platforms we may be able to bring a considerable amount of traffic on our platform. Video playing applications have a charm of engaging audience for several hours, henceforth it may be an ideal category.\n",
    "\n",
    "Other categories like social, photography, productivity and game are also highly skewed by the big players and the game category is highly saturated as there is a small number of games that are able to gather a very large audience. The books and references category is still fairly popular with 8,767,811 installs. It would be best to explore this category in detail before jumping to conclusion."
   ]
  },
  {
   "cell_type": "code",
   "execution_count": 22,
   "metadata": {},
   "outputs": [
    {
     "name": "stdout",
     "output_type": "stream",
     "text": [
      "E-Book Read - Read Book for free : 50,000+\n",
      "Download free book with green book : 100,000+\n",
      "Wikipedia : 10,000,000+\n",
      "Cool Reader : 10,000,000+\n",
      "Free Panda Radio Music : 100,000+\n",
      "Book store : 1,000,000+\n",
      "FBReader: Favorite Book Reader : 10,000,000+\n",
      "English Grammar Complete Handbook : 500,000+\n",
      "Free Books - Spirit Fanfiction and Stories : 1,000,000+\n",
      "Google Play Books : 1,000,000,000+\n",
      "AlReader -any text book reader : 5,000,000+\n",
      "Offline English Dictionary : 100,000+\n",
      "Offline: English to Tagalog Dictionary : 500,000+\n",
      "FamilySearch Tree : 1,000,000+\n",
      "Cloud of Books : 1,000,000+\n",
      "Recipes of Prophetic Medicine for free : 500,000+\n",
      "ReadEra – free ebook reader : 1,000,000+\n",
      "Anonymous caller detection : 10,000+\n",
      "Ebook Reader : 5,000,000+\n",
      "Litnet - E-books : 100,000+\n",
      "Read books online : 5,000,000+\n",
      "English to Urdu Dictionary : 500,000+\n",
      "eBoox: book reader fb2 epub zip : 1,000,000+\n",
      "English Persian Dictionary : 500,000+\n",
      "Flybook : 500,000+\n",
      "All Maths Formulas : 1,000,000+\n",
      "Ancestry : 5,000,000+\n",
      "HTC Help : 10,000,000+\n",
      "English translation from Bengali : 100,000+\n",
      "Pdf Book Download - Read Pdf Book : 100,000+\n",
      "Free Book Reader : 100,000+\n",
      "eBoox new: Reader for fb2 epub zip books : 50,000+\n",
      "Only 30 days in English, the guideline is guaranteed : 500,000+\n",
      "Moon+ Reader : 10,000,000+\n",
      "SH-02J Owner's Manual (Android 8.0) : 50,000+\n",
      "English-Myanmar Dictionary : 1,000,000+\n",
      "Golden Dictionary (EN-AR) : 1,000,000+\n",
      "All Language Translator Free : 1,000,000+\n",
      "Azpen eReader : 500,000+\n",
      "URBANO V 02 instruction manual : 100,000+\n",
      "Bible : 100,000,000+\n",
      "C Programs and Reference : 50,000+\n",
      "C Offline Tutorial : 1,000+\n",
      "C Programs Handbook : 50,000+\n",
      "Amazon Kindle : 100,000,000+\n",
      "Aab e Hayat Full Novel : 100,000+\n",
      "Aldiko Book Reader : 10,000,000+\n",
      "Google I/O 2018 : 500,000+\n",
      "R Language Reference Guide : 10,000+\n",
      "Learn R Programming Full : 5,000+\n"
     ]
    }
   ],
   "source": [
    "print_app_genre(android_free,1,0,5,\"BOOKS_AND_REFERENCE\",50)\n"
   ]
  },
  {
   "cell_type": "markdown",
   "metadata": {},
   "source": [
    "The books and reference category is also skewed by big players but if we take alook at the first 50 apps in this category we can see that the number of big players might be less than other categories. It would be best to verify our results before analysing it further."
   ]
  },
  {
   "cell_type": "code",
   "execution_count": 23,
   "metadata": {},
   "outputs": [
    {
     "name": "stdout",
     "output_type": "stream",
     "text": [
      "Google Play Books  :  1,000,000,000+\n",
      "Bible  :  100,000,000+\n",
      "Amazon Kindle  :  100,000,000+\n",
      "Wattpad 📖 Free Books  :  100,000,000+\n",
      "Audiobooks from Audible  :  100,000,000+\n"
     ]
    }
   ],
   "source": [
    "for row in android_free:\n",
    "    if row[1]==\"BOOKS_AND_REFERENCE\" and (row[5]=='1,000,000,000+' or row[5]=='500,000,000+' or row[5]=='100,000,000+'):\n",
    "        print(row[0],\" : \",row[5])"
   ]
  },
  {
   "cell_type": "markdown",
   "metadata": {},
   "source": [
    "There are a few big players in thius category however, inorder to come up with an idea it would be best to look at the apps that are somewhere in the middle interms of popularity."
   ]
  },
  {
   "cell_type": "code",
   "execution_count": 24,
   "metadata": {},
   "outputs": [
    {
     "name": "stdout",
     "output_type": "stream",
     "text": [
      "Wikipedia  :  10,000,000+\n",
      "Cool Reader  :  10,000,000+\n",
      "Book store  :  1,000,000+\n",
      "FBReader: Favorite Book Reader  :  10,000,000+\n",
      "Free Books - Spirit Fanfiction and Stories  :  1,000,000+\n",
      "AlReader -any text book reader  :  5,000,000+\n",
      "FamilySearch Tree  :  1,000,000+\n",
      "Cloud of Books  :  1,000,000+\n",
      "ReadEra – free ebook reader  :  1,000,000+\n",
      "Ebook Reader  :  5,000,000+\n",
      "Read books online  :  5,000,000+\n",
      "eBoox: book reader fb2 epub zip  :  1,000,000+\n",
      "All Maths Formulas  :  1,000,000+\n",
      "Ancestry  :  5,000,000+\n",
      "HTC Help  :  10,000,000+\n",
      "Moon+ Reader  :  10,000,000+\n",
      "English-Myanmar Dictionary  :  1,000,000+\n",
      "Golden Dictionary (EN-AR)  :  1,000,000+\n",
      "All Language Translator Free  :  1,000,000+\n",
      "Aldiko Book Reader  :  10,000,000+\n",
      "Dictionary - WordWeb  :  5,000,000+\n",
      "50000 Free eBooks & Free AudioBooks  :  5,000,000+\n",
      "Al-Quran (Free)  :  10,000,000+\n",
      "Al Quran Indonesia  :  10,000,000+\n",
      "Al'Quran Bahasa Indonesia  :  10,000,000+\n",
      "Al Quran Al karim  :  1,000,000+\n",
      "Al Quran : EAlim - Translations & MP3 Offline  :  5,000,000+\n",
      "Koran Read &MP3 30 Juz Offline  :  1,000,000+\n",
      "Hafizi Quran 15 lines per page  :  1,000,000+\n",
      "Quran for Android  :  10,000,000+\n",
      "Satellite AR  :  1,000,000+\n",
      "Oxford A-Z of English Usage  :  1,000,000+\n",
      "Dictionary.com: Find Definitions for English Words  :  10,000,000+\n",
      "English Dictionary - Offline  :  10,000,000+\n",
      "Bible KJV  :  5,000,000+\n",
      "NOOK: Read eBooks & Magazines  :  10,000,000+\n",
      "Brilliant Quotes: Life, Love, Family & Motivation  :  1,000,000+\n",
      "Stats Royale for Clash Royale  :  1,000,000+\n",
      "Dictionary  :  10,000,000+\n",
      "wikiHow: how to do anything  :  1,000,000+\n",
      "EGW Writings  :  1,000,000+\n",
      "My Little Pony AR Guide  :  1,000,000+\n",
      "Spanish English Translator  :  10,000,000+\n",
      "Dictionary - Merriam-Webster  :  10,000,000+\n",
      "JW Library  :  10,000,000+\n",
      "Oxford Dictionary of English : Free  :  10,000,000+\n",
      "English Hindi Dictionary  :  10,000,000+\n",
      "English to Hindi Dictionary  :  5,000,000+\n"
     ]
    }
   ],
   "source": [
    "for row in android_free:\n",
    "    if row[1]==\"BOOKS_AND_REFERENCE\" and (row[5]=='1,000,000+' or row[5]=='5,000,000+' or row[5]=='10,000,000+'or row[5]=='50,000,000+'):\n",
    "        print(row[0],\" : \",row[5])"
   ]
  },
  {
   "cell_type": "markdown",
   "metadata": {},
   "source": [
    "The above entries are composed of religious books, dictionaries, e-books, and e-libraries. Working on a religious book will require hiring religious experts and while working on dictionaries would require a language expert. Moreover people donot spend much time on these applications therefore, they are not beneficial since our source of revenue is in-app adds. The best thing would be to work on e-books or e-libraries. We can add several books in our application available in both as text, and audio."
   ]
  },
  {
   "cell_type": "markdown",
   "metadata": {},
   "source": [
    "## Conclusion\n",
    "\n",
    "After analyzing the data above I have finalized two categories: Books and References, Photo and Video. For the Photo and Video category we can make an application like tiktok, and musically but it involves a significant amount of investment as we would need to hire influencers to market the app and bring people over to our platform. However, for an e-bbok or an audio book even a simple advertisement would help in bringing our application to the book lovers. After a risk assessment it would be best to go with the books and references idea as the risk and investment involved in this project is low with high returns..\n"
   ]
  }
 ],
 "metadata": {
  "kernelspec": {
   "display_name": "Python 3",
   "language": "python",
   "name": "python3"
  },
  "language_info": {
   "codemirror_mode": {
    "name": "ipython",
    "version": 3
   },
   "file_extension": ".py",
   "mimetype": "text/x-python",
   "name": "python",
   "nbconvert_exporter": "python",
   "pygments_lexer": "ipython3",
   "version": "3.8.6"
  }
 },
 "nbformat": 4,
 "nbformat_minor": 2
}
